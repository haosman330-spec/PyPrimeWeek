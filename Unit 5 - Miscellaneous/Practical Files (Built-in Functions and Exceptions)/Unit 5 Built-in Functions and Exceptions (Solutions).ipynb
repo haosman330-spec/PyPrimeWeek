{
 "cells": [
  {
   "cell_type": "markdown",
   "metadata": {},
   "source": [
    "# MSc Artificial Intelligence Python Primer\n",
    "# Unit 5 Jupyter Notebook \n",
    "# Built-in Functions and Exceptions \n",
    "\n",
    "\n",
    "## Goals\n",
    "This notebook has been created to familiarise you with other aspects of Python that we have not covered elsewhere in the module. Most of the code needed to progress through this Notebook has been provided for you. However, there are several coding tasks that you will need to complete yourself by entering code yourself.\n",
    "\n",
    "The topics in this notebook include:\n",
    "* Built-in Functions (such as `eval()`, `filter()`, `min()`, `max()`, `sorted()` and `zip()`)\n",
    "* String Methods\n",
    "* File Handling using Python\n",
    "* Exception Handling"
   ]
  },
  {
   "cell_type": "markdown",
   "metadata": {},
   "source": [
    "# Built-in Functions\n",
    "We have already encountered some of the built-in functions on the module, namely, `format()`, `help()`, `input()`, `print()` and `range()`. The following section provides some information about the other functions that are available to you. However, it does not list all of the built-in functions. We have tried to capture the most popular and useful ones. You can find a detailed description of all the built-in functions at https://docs.python.org/3/library/functions.html."
   ]
  },
  {
   "cell_type": "markdown",
   "metadata": {},
   "source": [
    "## `abs(x)`\n",
    "This function returns the absolute value of a number. An absolute value is defined in mathematics as the non-negative value of `x` without regard to its sign. The parameter `x` may be an integer or a floating point number."
   ]
  },
  {
   "cell_type": "code",
   "execution_count": null,
   "metadata": {},
   "outputs": [],
   "source": [
    "print(abs(-100)) # negative integer\n",
    "\n",
    "print(abs(3.1415)) # positive float"
   ]
  },
  {
   "cell_type": "markdown",
   "metadata": {},
   "source": [
    "## `chr(x)` and `ord(x)`\n",
    "This `chr()` function returns the Unicode character given by the parameter `x`. There are 144697 possible characters that can be represented as a Unicode value covering 159 modern and historic scripts as well as symbols and emojis. See https://en.wikipedia.org/wiki/List_of_Unicode_characters for a list of the most commonly used characters. The `ord()` function performs the opposite conversion, that is, from a given character to its Unicode value."
   ]
  },
  {
   "cell_type": "code",
   "execution_count": null,
   "metadata": {},
   "outputs": [],
   "source": [
    "print(chr(97), ord('a')) # Unicode value for the lower case a\n",
    "\n",
    "print(chr(49), ord('1')) # Unicode value for the digit 1\n",
    "\n",
    "print(chr(920), ord('Θ')) # Unicode value for upper case theta"
   ]
  },
  {
   "cell_type": "markdown",
   "metadata": {},
   "source": [
    "## `complex(r, i)`\n",
    "This function returns a complex number with a real and imaginary component. The `r` parameter represents the real part and `i` represents the imaginary part. In addition, this function can also accept a string representation of a complex number. Care must be taken in formatting the string. It must be in the form *\"real+imagj\"* or *\"real-imagj\"* with no spaces. Also the `i` parameter should be omitted."
   ]
  },
  {
   "cell_type": "code",
   "execution_count": null,
   "metadata": {},
   "outputs": [],
   "source": [
    "print(complex(2, -3)) # real and imaginary parts are given\n",
    "\n",
    "print(complex(1)) # only real part is given, imag part defaults to 0\n",
    "\n",
    "print(complex()) # no parameters are given, \n",
    "                 # both real and imag default to 0\n",
    "\n",
    "print(complex('5-9j')) # a string is given\n",
    "\n",
    "print(complex('2 + 6j')) # a string is given with incorrect format"
   ]
  },
  {
   "cell_type": "markdown",
   "metadata": {},
   "source": [
    "## `divmod(x, y)`\n",
    "When performing division using integer values it is common to use both the / and % operators do give the quotient and remainder. This function takes two parameters, `x` and `y`, and returns a pair of numbers consisting of their quotient and remainder. `x` is the numerator and `y` is the denominator. Care must be taken when using this function with float parameter values. If you are interested in how the function works for float parameters, take a look at the following link: https://docs.python.org/3/library/functions.html#divmod."
   ]
  },
  {
   "cell_type": "code",
   "execution_count": null,
   "metadata": {},
   "outputs": [],
   "source": [
    "q, r = divmod(10, 3) # divide 10 by 3 -> quot3n10 = 3, remainder = 1\n",
    "print(\"q =\",q,\"r =\",r)\n",
    "\n",
    "q, r = divmod(3, 10) # divide 3 by 10 -> quotient = 0, remainder = 3\n",
    "print(\"q =\",q,\"r =\",r)\n",
    "\n",
    "q, r = divmod(8.0, 3.6) # divide 8.0 by 3.6 -> quotient = 2.0, remainder = 0.8\n",
    "print(\"q =\",q,\"r =\",r)\n"
   ]
  },
  {
   "cell_type": "markdown",
   "metadata": {},
   "source": [
    "## `eval(expr)`\n",
    "This function can be used to evaluate a given string parameter, `expr`, as a Python expression. The function returns the result of evaluating the given expression. This function can be configured using additional optional parameters. Again, if you are interested in all the options available with this function, take a look at the following link: https://docs.python.org/3/library/functions.html#eval."
   ]
  },
  {
   "cell_type": "code",
   "execution_count": null,
   "metadata": {},
   "outputs": [],
   "source": [
    "x = 1 \n",
    "print(eval('x * 2')) # evaluate the expression x * 2\n",
    "\n",
    "a = 43\n",
    "b = 17 \n",
    "print(eval(\"divmod(a, b)\")) # evalute the expression divmod(a, b) "
   ]
  },
  {
   "cell_type": "markdown",
   "metadata": {},
   "source": [
    "## `filter(function, iterable)`\n",
    "This function can be used to filter out items in an `iterable` for which the given `function` returns `True`. An iterable is either a sequence (such as a List, Tuple and strings), a container (Set and Dictionary) or an iterator (an object that is used to traverse through all values in a sequence). The `function` parameter should be a Python function that check each iterable item for acceptance or rejection. Accepted items are indicated by returning `True`. The `filter()` function returns an iterator. This can be converted back into a sequence type using the `list()`, `set()` or `tuple()` function (if required)."
   ]
  },
  {
   "cell_type": "code",
   "execution_count": null,
   "metadata": {},
   "outputs": [],
   "source": [
    "# define a function which checks if a given letter is a vowel.\n",
    "# Returns: True if letter is a vowel, False if letter is not a vowel\n",
    "def filter_vowels(letter):\n",
    "    vowels = ['a', 'e', 'i', 'o', 'u']\n",
    "    return True if letter in vowels else False\n",
    "\n",
    "# filter out none vowels from a given string and iterate over the result\n",
    "for c in filter(filter_vowels,\"hello world\"):\n",
    "    print(c)\n",
    "\n",
    "# filter out all none-vowels from a given list of letters and convert the result to a tuple\n",
    "letters = ['a', 'b', 'd', 'e', 'i', 'j', 'o']\n",
    "print(tuple(filter(filter_vowels,letters)))\n",
    "\n",
    "# define a funcion which checks a given key-value pair to see if the key is even\n",
    "# Returns: True if key is even, False if key is odd\n",
    "def f(item):\n",
    "    if item[0]%2 == 0: # access the first value in the pair, i.e. the key\n",
    "        return True\n",
    "    else:\n",
    "        return False\n",
    "\n",
    "# filter out all none-even keys from a dictionary and store the result in a new dictionary\n",
    "aDict = {1:'one',2:'two',3:'three',4:'four'}\n",
    "newDict = dict(filter(f, aDict.items())) \n",
    "print(newDict)"
   ]
  },
  {
   "cell_type": "markdown",
   "metadata": {},
   "source": [
    "## `float(x)`\n",
    "This function converts the given parameter, `x`, into a float value. The parameter can be a number or a string. The string representation of the floating point number must valid otherwise Python will raise a `ValueError`. If no parameters are given, `float()` returns `0.0`."
   ]
  },
  {
   "cell_type": "code",
   "execution_count": null,
   "metadata": {},
   "outputs": [],
   "source": [
    "# an integer example\n",
    "print(float(10))\n",
    "\n",
    "# a simple string example\n",
    "print(float(\"-13.33\"))\n",
    "\n",
    "# a string using scientific notation\n",
    "print(float(\"-1.333E1\"))\n",
    "\n",
    "# an invalid float string - which raises a ValueError\n",
    "print(float(\"abc\"))"
   ]
  },
  {
   "cell_type": "markdown",
   "metadata": {},
   "source": [
    "## `int(x, [base])`\n",
    "This function convert the given parameter, `x`, into an int value. The parameter can be a number or a string. There is an optional parameter, `base`, which allows you to specify which number base to use for the conversion. The default base is 10. If no parameters are given, `int()` returns `0`."
   ]
  },
  {
   "cell_type": "code",
   "execution_count": null,
   "metadata": {},
   "outputs": [],
   "source": [
    "# a float example\n",
    "print(int(123.23))\n",
    "\n",
    "# a binary example using base=2\n",
    "print(int('1010', base=2))\n",
    "\n",
    "# a string example\n",
    "print(int('123'))"
   ]
  },
  {
   "cell_type": "markdown",
   "metadata": {},
   "source": [
    "## `len(x)`\n",
    "This function returns the number of items in a sequence (such as List, Set, Tuple, string) or collection (such as Dictionary or Set). This function takes a single parameter, `x`, and returns the length of the sequence or collection"
   ]
  },
  {
   "cell_type": "code",
   "execution_count": null,
   "metadata": {},
   "outputs": [],
   "source": [
    "# length of a string\n",
    "str=\"hello\"\n",
    "print(len(str))\n",
    "\n",
    "# length of a List\n",
    "languages = ['Python', 'Java', 'JavaScript']\n",
    "print(len(languages))\n",
    "\n",
    "# size of a dictionary\n",
    "aDict = {1:'one',2:'two',3:'three',4:'four'}\n",
    "print(len(aDict))"
   ]
  },
  {
   "cell_type": "markdown",
   "metadata": {},
   "source": [
    "## `map(function, iterable)`\n",
    "This function can be used to apply a given function, `function` to each item in a given `iterable`. An iterable is either a sequence (such as a List, Tuple and strings), a container (Set and Dictionary) or an iterator (an object that is used to traverse through all values in a sequence). The function parameter should be a Python function that returns the result of processing the given item. The `map()` function returns an iterator. This can be converted back into a sequence type using the `list()`, `set()` or `tuple()` function (if required)."
   ]
  },
  {
   "cell_type": "code",
   "execution_count": null,
   "metadata": {},
   "outputs": [],
   "source": [
    "# returns square of a number\n",
    "def square(number):\n",
    "    return number * number\n",
    "\n",
    "# square every number in the given List and convert the result to a List\n",
    "numbers = [2, 4, 6, 8, 10]\n",
    "print(list(map(square, numbers)))\n",
    "\n",
    "# find the length of each key in a dictionary\n",
    "languages = {\"Python\":0, \"CSharp\":0, \"Java\":0}\n",
    "print(list(map(len, languages))) # here the built-in len() function has been used\n"
   ]
  },
  {
   "cell_type": "markdown",
   "metadata": {},
   "source": [
    "## `min(iter)` & `max(iter)`\n",
    "These functions return the largest (`max`) and smallest (`min`) items in a given iterable object, `iter`. As you have already seen, an iterable can be List, Tuple, Set, Dictionary or string. For number values, the largest (or smallest) value is obvious. For string values, the values are sorted alphabetically to find the largest (or smallest) value. For dictionaries, the key is used used. Both functions can also accept two parameters instead of an iterable."
   ]
  },
  {
   "cell_type": "code",
   "execution_count": null,
   "metadata": {},
   "outputs": [],
   "source": [
    "# integers\n",
    "numbers = [9, 34, 11, -4, 27]\n",
    "print(min(numbers), max(numbers))\n",
    "\n",
    "# strings\n",
    "languages = [\"Python\", \"C Programming\", \"Java\", \"JavaScript\"]\n",
    "print(min(languages)) # sorting A-Z\n",
    "print(max(languages)) # sorting Z-A\n",
    "\n",
    "# dictionaries\n",
    "staff = {\"Dave\": 1, \"Rhys\": 2, \"Jan\": 3, \"Khoa\": 4}\n",
    "print(min(staff)) # key sorted A-Z\n",
    "print(max(staff)) # key sorted Z-A\n",
    "\n",
    "# two parameter usage\n",
    "print(min(34,23))\n",
    "print(max(34,23))"
   ]
  },
  {
   "cell_type": "markdown",
   "metadata": {},
   "source": [
    "## `pow(x, y,[mod])`\n",
    "This function returns x<sup>y</sup> where the parameters `x` represents the base and `y` represents the exponent and must be numeric. This is equivalent to using the power operator `x**y`. There is a third optional parameter, `mod`, which represents the modolus value to be applied after the power. The modolus is equavalent to the `%` operator that we covered in Unit 1, i.e. the remainder of a division. "
   ]
  },
  {
   "cell_type": "code",
   "execution_count": null,
   "metadata": {},
   "outputs": [],
   "source": [
    "# find 5 squared\n",
    "print(pow(5, 2))\n",
    "\n",
    "# show pow() and ** are equivalent\n",
    "print(5**2)\n",
    "\n",
    "# find square root of 81\n",
    "print(pow(81, 0.5))\n",
    "\n",
    "# find inverse of 10\n",
    "print(pow(10,-1))\n",
    "\n",
    "# use the modulus parameter to show the result \n",
    "# of 7 squared module 5\n",
    "print(pow(7,2,5))"
   ]
  },
  {
   "cell_type": "markdown",
   "metadata": {},
   "source": [
    "## `reversed()`\n",
    "This function returns a reverse iterator to provide a way to access a sequence of values in reverse order. The sequence can be a List, Tuple, string, `range()` or Dictionary. The iterator can be used to create a new sequence object using the list() or tuple() function (if required)."
   ]
  },
  {
   "cell_type": "code",
   "execution_count": null,
   "metadata": {},
   "outputs": [],
   "source": [
    "# for string\n",
    "seq_string = 'Python'\n",
    "print(list(reversed(seq_string)))\n",
    "\n",
    "# for list\n",
    "seq_list = [1, 2, 4, 3, 5]\n",
    "print(list(reversed(seq_list)))\n",
    "\n",
    "# for range\n",
    "seq_range = range(5, 9)\n",
    "print(list(reversed(seq_range)))\n",
    "\n",
    "# for dictionary\n",
    "staff = {\"Dave\": 1, \"Rhys\": 2, \"Jan\": 3, \"Khoa\": 4}\n",
    "print(list(reversed(staff))) # uses the key only"
   ]
  },
  {
   "cell_type": "markdown",
   "metadata": {},
   "source": [
    "## `round(n, [p])`\n",
    "This function returns a floating point number, `n`, rounded to the specified number of decimal places, `p`. If the second parameter, `p`, is omitted then the `round()` function will round to the nearest whole number."
   ]
  },
  {
   "cell_type": "code",
   "execution_count": null,
   "metadata": {},
   "outputs": [],
   "source": [
    "# round up\n",
    "print(round(1.6))\n",
    "\n",
    "# round down\n",
    "print(round(1.4))\n",
    "\n",
    "# rounds up when in middle of two options\n",
    "print(round(1.5))\n",
    "\n",
    "# round to nearest 4 d.p.\n",
    "print(round(3.1415926535, 4))"
   ]
  },
  {
   "cell_type": "markdown",
   "metadata": {},
   "source": [
    "## `sorted(iterable,[reverse],[key])`\n",
    "This function sorts the items in a given `iterable` in ascending or descending order and returns the result as a List.  An iterable is either a sequence (such as a List, Tuple and strings), a container (Set and Dictionary) or an iterator (an object that is used to traverse through all values in a sequence). The optional parameter `reverse` is used to switch between ascending and descending order. The default is ascending order. Additionally, the optional parameter `key` is used to specify a function that can be used to generate the key to be used during the sort operation. The function can be user-defined or a built-in function (such as `len()`). "
   ]
  },
  {
   "cell_type": "code",
   "execution_count": null,
   "metadata": {},
   "outputs": [],
   "source": [
    "# a list\n",
    "py_list = ['e', 'a', 'u', 'o', 'i']\n",
    "print(sorted(py_list))\n",
    "\n",
    "# a tuple\n",
    "py_tuple = ('e', 'a', 'u', 'o', 'i')\n",
    "print(sorted(py_tuple))\n",
    "\n",
    "# a set in reverse order\n",
    "py_set = {\"Dave\", \"Rhys\", \"Khoa\", \"Jan\"}\n",
    "print(sorted(py_set, reverse=True))\n",
    "\n",
    "# a list sorted by string length using built-in len() function\n",
    "languages = [\"Python\", \"C Programming\", \"Java\", \"JavaScript\"]\n",
    "print(sorted(languages,key=len))\n",
    "\n",
    "# a dictionary sorted by value (rather than key)\n",
    "def use_value(elem):\n",
    "    return elem[1]\n",
    "\n",
    "random = [(2, 2), (3, 4), (4, 1), (1, 3)]\n",
    "print(sorted(random, key=use_value))"
   ]
  },
  {
   "cell_type": "markdown",
   "metadata": {},
   "source": [
    "## `sum(iterable,[start])`\n",
    "This function adds all the items in the given `iterable` together and returns the total sum. The items in the iterable should be numbers. As previously described, an iterable can be List, Tuple, Set or Dictionary. There is an optional parameter, `start`, which allows you to specify the initial value which is added to. The default value of start is `0`. If you wish to add at set of strings together, you should use the `join()` method (as described in the next section)."
   ]
  },
  {
   "cell_type": "code",
   "execution_count": null,
   "metadata": {},
   "outputs": [],
   "source": [
    "# a list\n",
    "marks = [65, 71, 68, 74, 61]\n",
    "print(sum(marks))\n",
    "\n",
    "# a set with start value 10\n",
    "ages = {65, 71, 68, 74, 61}\n",
    "print(sum(ages, 10))"
   ]
  },
  {
   "cell_type": "markdown",
   "metadata": {},
   "source": [
    "## `zip(iterables)` and unzipping\n",
    "This function takes zero or more `iterables`, joins them together one item at a time in a tuple and returns the result. In other words, the i<sup>th</sup> tuple contains the i<sup>th</sup> element from each `iterable` given as a parameter. This can become more complicated if the any of the `iterable` parameters has a different length from the others. By default, `zip()` will stop once the shortest `iterable` has been exhausted. The `zip()` function returns an iterator. This can be converted back into a sequence type using the list(), set() or tuple() function (if required). The `zip()` function can also be used unzip an iterable that has previously been zipped (or that is in the correct format). Simple add a `*` infront of the zipped iterable that is being unzipped. The function will return each iterable separately. These can be assigned to variables using the `,` operator, e.g. `x,y = zip(*zipped)`"
   ]
  },
  {
   "cell_type": "code",
   "execution_count": null,
   "metadata": {},
   "outputs": [],
   "source": [
    "# example with two iterables of equal length\n",
    "languages = ['Java', 'Python', 'JavaScript']\n",
    "versions = [14, 3, 6]\n",
    "\n",
    "print(list(zip(languages, versions))) # convert result to a list\n",
    "\n",
    "print(\"\")\n",
    "\n",
    "# example with three iterables of equal length\n",
    "names = {'Muhammad', 'Deborah', 'Oladeji'} # a set of names\n",
    "degrees = ['Data Science', 'Fintech', 'Data Science'] # a list of degrees\n",
    "ages = (25, 28, 43) # a tuple of ages\n",
    "\n",
    "print(set(zip(names, degrees, ages))) # convert result to a set\n",
    "\n",
    "print(\"\")\n",
    "\n",
    "# example with two iterables of unequal length\n",
    "numbersList = [1, 2, 3]\n",
    "numbersListText = ['ONE', 'TWO', 'THREE', 'FOUR']\n",
    "print(list(zip(numbersList, numbersListText))) # convert result to a list\n",
    "\n",
    "print(\"\")\n",
    "\n",
    "# unzipping an existing tuple of aggregated values\n",
    "zippedList = [(1, \"one\"), (2, \"two\"), (3, \"three\")]\n",
    "number, number_str = zip(*zippedList) # the * operator indicates unzipping\n",
    "print(\"Iterable 1: \",number)\n",
    "print(\"Iterable 2: \", number_str )\n"
   ]
  },
  {
   "cell_type": "markdown",
   "metadata": {},
   "source": [
    "### <font color='red'><u>Worksheet Exercises</u></font>\n",
    "1. Find the minimum, maximum and mean average of the following list of numbers:  `37.14, 32.53, 62.21, 96.55, 44.68, 31.18, 34.29, 27.22, 63.13, 54.09, 59.66, 23.3, 88.93, 71.63, 99.1, 93.86, 65.13, 96.81, 10.23, 64.06`\n",
    "2. Using the `filter()` function, show all the prime numbers between 2 and 100.\n",
    "3. Using the `map()` and `len()` functions, create a `Tuple` containing the length of each string in the following `List`: `['Dave', 'Jan', 'Rhys', 'Khoa']`\n",
    "4. Using the `sorted()` function and an appropriate function, sort the following Dictionary by value string length: `{ 'Colorado':'Rockies', 'Boston':'Red Sox', 'Minnesota':'Twins', 'Milwaukee':'Brewers', 'Seattle':'Mariners'}`\n",
    "5. Given the following two lists, use the `zip()` and `dict()` functions to create a new Dictionary: `keys = [\"First Name\", \"Last Name\", \"Workshop Room\", \"Time\"]` and `values = [\"Dave\", \"Wyatt\", \"3Q44\", \"4-6pm\"]`"
   ]
  },
  {
   "cell_type": "code",
   "execution_count": null,
   "metadata": {},
   "outputs": [],
   "source": [
    "# 1.\n",
    "numbers = [37.14, 32.53, 62.21, 96.55, 44.68, 31.18, 34.29, \n",
    "           27.22, 63.13, 54.09, 59.66, 23.3, 88.93, 71.63, \n",
    "           99.1, 93.86, 65.13, 96.81, 10.23, 64.06]\n",
    "\n",
    "print(\"Min: \", min(numbers), \"Max: \", max(numbers), \"Mean:\", sum(numbers)/len(numbers))\n",
    "\n",
    "# 2.\n",
    "# this function only works for values greater than or equal to 2\n",
    "def filter_prime(num):\n",
    "    flag = True # retain by default\n",
    "    \n",
    "    # check if the current number is divisible by any number \n",
    "    # up to but not including the current number\n",
    "    for i in range(2, num):\n",
    "        if (num % i) == 0:\n",
    "            flag = False # reject if divisible \n",
    "            break\n",
    "    \n",
    "    # returns True if value should be retained, False if it should not\n",
    "    return flag\n",
    "\n",
    "# use the filter function to print all prime numbers between 2 and 100\n",
    "for n in filter(filter_prime,range(2,100)):\n",
    "    print(n)\n",
    "    \n",
    "# 3.\n",
    "# define a function that returns the length of the supplied iterable \n",
    "def find_len(str):\n",
    "    return len(str)\n",
    "\n",
    "# provide a List of strings and use the map() function to create a Tuple of lengths\n",
    "names = ['Dave', 'Jan', 'Rhys', 'Khoa']\n",
    "print(tuple(map(find_len,names)))\n",
    "\n",
    "# 4.\n",
    "# define a function that returns the length of the value part of the key:value pair\n",
    "def find_value_len(elem):\n",
    "    return len(elem[1])\n",
    "\n",
    "baseball= {'Colorado':'Rockies', 'Boston':'Red Sox', \n",
    "           'Minnesota':'Twins', 'Milwaukee':'Brewers', \n",
    "           'Seattle':'Mariners'}\n",
    "\n",
    "# use the key parameter to specify the find_value_len() function should be used when sorting\n",
    "print(sorted(baseball.items(), key=find_value_len))\n",
    "\n",
    "# 5.\n",
    "keys = [\"First Name\", \"Last Name\", \"Workshop Room\", \"Time\"]\n",
    "values = [\"Dave\", \"Wyatt\", \"3Q44\", \"4-6pm\"]\n",
    "\n",
    "tutorDict = dict(zip(keys,values))\n",
    "print(tutorDict)"
   ]
  },
  {
   "cell_type": "markdown",
   "metadata": {},
   "source": [
    "# String Methods\n",
    "A string is a sequence of characters enclosed in quaotation marks, `\"\"` or `''`. Strings are represented in Python as a string object. String objects have their own set of built-in methods that can be used to manipulate the string. To use a string method, you simply add a `.` after a string literal or a string variable followed by the required function. We have already seen an example of this in Unit 1 using the `format()` method, e.g. `\"My name is {0}\".format(\"Dave\")`."
   ]
  },
  {
   "cell_type": "markdown",
   "metadata": {},
   "source": [
    "## `capitalize()`\n",
    "This method returns a string with the first letter capitalised and all other characters converted to lower case. It does not modify the original string. Non-alphabetic charcaters are ignored."
   ]
  },
  {
   "cell_type": "code",
   "execution_count": null,
   "metadata": {},
   "outputs": [],
   "source": [
    "# a string with all lower-case characters\n",
    "example = \"this is an example sentence\"\n",
    "print(example.capitalize())\n",
    "\n",
    "# a string with all a mixture of upper and lower-case characters\n",
    "example2 = \"tHiS Is An ExAmPlE sEnTeNcE\"\n",
    "print(example2.capitalize())\n",
    "\n",
    "# a string with all non-alphabetic characters\n",
    "example3 = \"!this text is important!\"\n",
    "print(example3.capitalize())\n"
   ]
  },
  {
   "cell_type": "markdown",
   "metadata": {},
   "source": [
    "## `count(substr, [start], [end])`\n",
    "This method returns the number of occurrences of a substring, `substr`, in the string on which it acts. There are two optional parameters. `start` refers to the starting index to be used when searching while `end` refers to the ending index."
   ]
  },
  {
   "cell_type": "code",
   "execution_count": null,
   "metadata": {},
   "outputs": [],
   "source": [
    "# example for single character substrings\n",
    "message = 'python is popular programming language'\n",
    "print(message.count('p')) # there are 4 'p' characters in the message\n",
    "\n",
    "# example for multiple character substrings\n",
    "message = \"Python is awesome, isn't it?\"\n",
    "print(message.count('is')) # there are 2 'is' strings in the message\n",
    "\n",
    "# example using the start and end index parameters\n",
    "message = \"Python is awesome, isn't it?\"\n",
    "print(message.count('is',10, 25)) # there is 1 'is' string between index 10 and 20"
   ]
  },
  {
   "cell_type": "markdown",
   "metadata": {},
   "source": [
    "## `find(substr)` or `index(substr)`\n",
    "These methods return the index of the first occurrence of the substring, `substr`, if found. The difference between them is that `find()` returns `-1` if the substring is not found, while `index()` causes a run-time error. As we saw in the `count()` method above, these methods also have optional parameters `start` and `end` to limit the search space for the substring."
   ]
  },
  {
   "cell_type": "code",
   "execution_count": null,
   "metadata": {},
   "outputs": [],
   "source": [
    "# find the first occurrance of the given substring\n",
    "quote = 'Let it be, let it be, let it be'\n",
    "print(quote.find('let it')) # using find()\n",
    "print(quote.index('let it')) # using index()\n",
    "\n",
    "# limit the search space using the start and end parameters\n",
    "quote = 'Let it be, let it be, let it be'\n",
    "print(quote.find('let it',20,30)) # using find()\n",
    "print(quote.index('let it',20,30)) # using index()\n",
    "\n",
    "# look for a substring that cannot be found\n",
    "print(quote.find('long')) # using find()\n",
    "print(quote.index('long')) # using index()\n"
   ]
  },
  {
   "cell_type": "markdown",
   "metadata": {},
   "source": [
    "## `isalnum()`\n",
    "This method returns `True` if all of the characters in the given string are alphanumeric (i.e. do not contain symbols) otherwise it returns `False`."
   ]
  },
  {
   "cell_type": "code",
   "execution_count": null,
   "metadata": {},
   "outputs": [],
   "source": [
    "# example string with letter and numbers only\n",
    "example=\"UFCFVQ302\"\n",
    "print(example.isalnum())\n",
    "\n",
    "# example string with letters, numbers and spaces\n",
    "example2=\"I teach in 3Q44\"\n",
    "print(example2.isalnum()) # False because string contains spaces"
   ]
  },
  {
   "cell_type": "markdown",
   "metadata": {},
   "source": [
    "## `isalpha()`\n",
    "This method returns `True` if all of the characters in the given string are either upper or lower case letters otherwise it returns `False`."
   ]
  },
  {
   "cell_type": "code",
   "execution_count": null,
   "metadata": {},
   "outputs": [],
   "source": [
    "# example string with letters only\n",
    "example=\"Dave\"\n",
    "print(example.isalpha())\n",
    "\n",
    "# example string with letters, numbers and symbols\n",
    "example2=\"david2.wyatt@uwe.ac.uk\"\n",
    "print(example2.isalpha())"
   ]
  },
  {
   "cell_type": "markdown",
   "metadata": {},
   "source": [
    "## `isdigit()`\n",
    "This method returns `True` if all of the characters in the given string are digits otherwise it returns `False`."
   ]
  },
  {
   "cell_type": "code",
   "execution_count": null,
   "metadata": {
    "scrolled": true
   },
   "outputs": [],
   "source": [
    "# example string with digits only\n",
    "example=\"1234567890\"\n",
    "print(example.isdigit())\n",
    "\n",
    "# example string with digits and a decimal point\n",
    "example2=\"3.1415\"\n",
    "print(example2.isdigit())"
   ]
  },
  {
   "cell_type": "markdown",
   "metadata": {},
   "source": [
    "## `islower()` or `isupper()`\n",
    "These methods return `True` if all of the characters in the given string are lowercase letters or uppercase letters respectively otherwise they return `False`. These functions ignore symbols when checking for truth."
   ]
  },
  {
   "cell_type": "code",
   "execution_count": null,
   "metadata": {},
   "outputs": [],
   "source": [
    "# example string with lowercase letters and other symbols\n",
    "example=\"this is a good string.\"\n",
    "print(example.islower())\n",
    "print(example.isupper())\n",
    "\n",
    "# example string with uppercase letters and other symbols and digits\n",
    "example2=\"THIS IS 2ND GOOD STRING.\"\n",
    "print(example2.isupper())\n",
    "print(example2.islower())"
   ]
  },
  {
   "cell_type": "markdown",
   "metadata": {},
   "source": [
    "## `join(iterable)`\n",
    "This method returns a string which is constructed from all elements in the given `iterable`. As you have already seen, an iterable can be List, Tuple, Set, Dictionary or string. Each element can be separated by a provided string. To do this, the `join()` method should be called on a string containing the required seperator string."
   ]
  },
  {
   "cell_type": "code",
   "execution_count": null,
   "metadata": {},
   "outputs": [],
   "source": [
    "# join the elements of a List together using a space character as a separator\n",
    "text = ['Python', 'is', 'a', 'fun', 'programming', 'language']\n",
    "print(' '.join(text))\n",
    "\n",
    "# use join to add spaces between each character in a string\n",
    "print(' '.join('Data Science'))\n",
    "\n",
    "# join the keys of a dictionary using a string as a separator\n",
    "test = {'Dave': 1, 'Jan': 2, 'Khoa': 3, 'Rhys': 4 }\n",
    "s = '->'\n",
    "print(s.join(test))"
   ]
  },
  {
   "cell_type": "markdown",
   "metadata": {},
   "source": [
    "## `lower(str)` or `upper(str)`\n",
    "These methods convert all characters in a given string, `str`, to lower or upper case characters, respectively. The methods return the resulting string."
   ]
  },
  {
   "cell_type": "code",
   "execution_count": null,
   "metadata": {},
   "outputs": [],
   "source": [
    "str = \"ThIs StRiNg CoNtAiNs UpPeR aNd LoWeR cAsE lEtTeRs\"\n",
    "print(str.lower()) # convert all letters to lower-case\n",
    "print(str.upper()) # convert all letters to upper-case\n"
   ]
  },
  {
   "cell_type": "markdown",
   "metadata": {},
   "source": [
    "## `strip([chars])`\n",
    "This method removes all leading and trailing characters in a given string. By default, whitespaces are removed (i.e. spaces, tabs and newlines). However, the optional parameter, `chars`, can be used to customise the method. Any leading or trailing characters that match the characters given in the string parameter are removed. The method returns the resulting string."
   ]
  },
  {
   "cell_type": "code",
   "execution_count": null,
   "metadata": {},
   "outputs": [],
   "source": [
    "# print string without stripping charcaters\n",
    "print(\"\\n\\n\\t     Hello     World      \\t\\n\\n\")\n",
    "\n",
    "# strip leading and trailing whitespaces\n",
    "print(\"\\n\\n\\t     Hello     World      \\t\\n\\n\".strip())\n",
    "\n",
    "# custom strip \n",
    "print(\"x0x0 Hello 0x0x\".strip(\" 0x\"))\n",
    "\n",
    "# custom strip with missing character in parameter\n",
    "print(\"x0x0 Hello 0x0x\".strip(\" 0\"))\n"
   ]
  },
  {
   "cell_type": "markdown",
   "metadata": {},
   "source": [
    "## `replace(old, new, [count])`\n",
    "This method replaces all occurrences of the string parameter `old` with the string parameter `new`. The method returns this resulting string. If the substring `old` cannot be found then the original string is returned.The original string remains unchanged. The optional parameter, `count`, allows you to limit the number of times that the replacement takes place for a given string. The default is to replace all occurrences. "
   ]
  },
  {
   "cell_type": "code",
   "execution_count": null,
   "metadata": {
    "scrolled": true
   },
   "outputs": [],
   "source": [
    "# replace a character with a character\n",
    "example1 = \"apologize organize recognize\"\n",
    "print(example1.replace('z', 's'))\n",
    "\n",
    "# replacing a string with a string with a string\n",
    "example2 = 'cold, cold heart'\n",
    "print(example2.replace('old', 'alm'))\n",
    "\n",
    "# replacing only two occurences of 'let'\n",
    "example3 = 'Let it be, let it be, let it be, let it be'\n",
    "print(example3.replace('let', \"don't let\", 2))"
   ]
  },
  {
   "cell_type": "markdown",
   "metadata": {},
   "source": [
    "## `split([separator], [maxsplit])`\n",
    "This method breaks the given string down into a List of substrings using a specified separator, `separator`, to identify each substring. If no `separator` parameter is provided, the method uses whitespaces (i.e. spaces, tabs and newlines). The second optional parameter, `maxplit`, limits the number of splits that are made."
   ]
  },
  {
   "cell_type": "code",
   "execution_count": null,
   "metadata": {
    "scrolled": true
   },
   "outputs": [],
   "source": [
    "# split a string using the default separators\n",
    "example1 = 'Torture the data and it will confess to anything'\n",
    "print(example1.split())\n",
    "\n",
    "# split a string using a specified separator string\n",
    "example2 = 'Milk, Chicken, Bread'\n",
    "print(example2.split(', ')) # note: the separator used is a comma AND a space\n",
    "\n",
    "# limit the number of splits made to a given string\n",
    "example3 = \"Without data you're just another person with an opinion\"\n",
    "print(example3.split(' ',3)) # note: 4 substrings are created"
   ]
  },
  {
   "cell_type": "markdown",
   "metadata": {},
   "source": [
    "### <font color='red'><u>Worksheet Exercises</u></font>\n",
    "1. Write a Python program that accepts a comma separated sequence of words as input and prints the unique words in sorted form (alphanumerically).\n",
    "2. Write a Python program that finds the first occurrence of the substrings `'not'` and `'poor'` in a given string. If the `not` occurs before `poor`, then replace the whole substring between `'not...poor'` with the string`'good'`, e.g. the `not that poor` substring in `The weather is not that poor` would replaced by the substring `good` resulting in `The weather is good`.\n",
    "3. Write a Python program to compute sum of all digits in a given string, e.g. `'123abcd45'` would result in the sum `15`\n",
    "4. Write a Python program to remove unwanted characters from a given string assuming the unwanted characters are given in a List. For this exercise use the following List: `['#', '*', '!', '^', '%']`\n",
    "5. Given a incorrectly formatted IP address (such as `164. 11.  4. 40`) where each part of the address may include leading whitespace, write a Python program to remove the leading whitespace and add an appropriate web protocol, e.g. `http://164.11.4.40`."
   ]
  },
  {
   "cell_type": "code",
   "execution_count": null,
   "metadata": {},
   "outputs": [],
   "source": [
    "# 1.\n",
    "inputStr = 'red,white,black,red,green,black' # black and red are repeated\n",
    "words = inputStr.split(',')\n",
    "print(','.join(sorted(list(set(words))))) # Set ensures uniqueness\n",
    "\n",
    "# 2. \n",
    "exampleStr = 'Bristol music culture is not at all poor!'\n",
    "\n",
    "notIndex = exampleStr.find('not') # returns -1 if 'not' not found in exampleStr\n",
    "poorIndex = exampleStr.find('poor') # returns -1 if 'poor' not found in exampleStr\n",
    "\n",
    "# ensure there is a 'poor' and 'not' substring before we try to replace\n",
    "if ((notIndex != -1) and (poorIndex != -1)):\n",
    "    if poorIndex > notIndex:\n",
    "        # when using the list slicing syntax we need to add 4 onto the poor index\n",
    "        # to account for the word `poor` which is 4 characters long\n",
    "        poorEnd = poorIndex + len('poor')\n",
    "        exampleStr = exampleStr.replace(exampleStr[notIndex:poorEnd], 'good')\n",
    "    \n",
    "print(exampleStr)\n",
    "\n",
    "# 3.\n",
    "exampleStr = '123abc45'\n",
    "digitSum = 0\n",
    "for c in exampleStr:\n",
    "    if c.isdigit() == True:  # check if the character is a digit\n",
    "        digitSum += int(c)\n",
    "        \n",
    "print(digitSum)\n",
    "\n",
    "# 4.\n",
    "exampleStr = \"Pyth*^on Exercis^es\"\n",
    "unwantedChars = ['#', '*', '!', '^', '%']\n",
    "for c in unwantedChars:\n",
    "    # replacing the given character with nothing effectively deletes it\n",
    "    exampleStr = exampleStr.replace(c, '') \n",
    "    \n",
    "print(exampleStr)\n",
    "\n",
    "# 5.\n",
    "badIP = '164. 11.  4. 40'\n",
    "# use strip function to remove leading spaces from each substring split on '.'\n",
    "goodIP = 'http://' + '.'.join([i.strip() for i in badIP.split('.')])\n",
    "\n",
    "print(goodIP)"
   ]
  },
  {
   "cell_type": "markdown",
   "metadata": {},
   "source": [
    "# File Handling using Python\n",
    "The only built-in function that provides functionality for handling files is `open()`. This function returns a `File` object (or a file handle) which provides a set of methods for accessing the file's contents such as `read()`, `write()`, `tell()` and `seek()`. In this section, we will look at how to open a file and how read from and write data to a file."
   ]
  },
  {
   "cell_type": "markdown",
   "metadata": {},
   "source": [
    "## `open(file,[mode])`\n",
    "The `open()` function accepts several different parameters, but for this tutorial we will focus on just two of them: `file` and `mode`. You can find a detailed description of `open()` at https://docs.python.org/3/library/functions.html#open."
   ]
  },
  {
   "cell_type": "markdown",
   "metadata": {},
   "source": [
    "### The `file` parameter\n",
    "This parameter that provides the name of the file to be opened. You can use either an absolute or relative pathname to identify the file. An absolute pathname includes the full path from the root directory of the file system, e.g., `'C:\\Users\\drdav\\Downloads\\data\\test.txt'` assuming the `test.txt` file was located in the given folder. You should avoid (where possible) using absolute pathnames when accessing files because other users of your Python code may not have the same file structure on their system. A relative pathname specifies a location that is relative to the current working directory in which the Python script is being executed, e.g. `'test.txt'` or `'data/test.txt'` assuming the data file is located in a sub-folder called `data`. When you are using Jupyter Notebooks this means the file should be located in the same folder (or a subfolder) as the Jupyter Notebook file."
   ]
  },
  {
   "cell_type": "markdown",
   "metadata": {},
   "source": [
    "### The `mode` parameter\n",
    "Python provides several different options for accessing files depending on whether you wish to read file contents or write new contents to a file. In addition, the structure of a file can also be taken into account when accessing the file. Some files are stored in text format (such as files with the extension `.csv` or `.txt`) while other files are stored in raw binary format (such as files with the extension `.exe`, `.dll` and commonly `.dat`). The `mode` parameter provides a way to specify which kind of access is needed for a given Python solution. The following table provides a list of all options:\n",
    "\n",
    "| <div align=\"center\">Mode</div> | <div align=\"center\">Description</div> |\n",
    "|----|---|\n",
    "| <div align=\"center\">r</div>  | <div align=\"center\"><strong>Opens a file for reading. (default)</strong></div> |\n",
    "| <div align=\"center\">w</div>  | <div align=\"center\">Opens a file for writing. <br/> Creates a new file if it does not exist or <br/> truncates (or removes all contents from) the file if it exists. </div> |\n",
    "| <div align=\"center\">x</div>  | <div align=\"center\">Opens a file for exclusive creation.<br/> If the file already exists, the operation fails. </div> |\n",
    "| <div align=\"center\">a</div>  | <div align=\"center\">Opens a file for appending at the end of the file without truncating it. <br/> Creates a new file if it does not exist. </div> |\n",
    "| <div align=\"center\">t</div>  | <div align=\"center\"><strong>Opens in text mode. (default)</strong></div> |\n",
    "| <div align=\"center\">b</div>  | <div align=\"center\">Opens in binary mode. </div> |\n",
    "| <div align=\"center\">+</div>  | <div align=\"center\">Opens a file for updating (reading and writing) </div> |\n"
   ]
  },
  {
   "cell_type": "code",
   "execution_count": null,
   "metadata": {},
   "outputs": [],
   "source": [
    "# open a file using the default read in text mode\n",
    "file = open(\"data/test.txt\")\n",
    "file.close() # every open file must be closed when access is no longer required\n",
    "\n",
    "# open a file for writing in text mode. This will truncate the file.\n",
    "file = open(\"data/test.txt\", 'w')\n",
    "file.close()\n",
    "\n",
    "# open a file for reading and writing in binary mode.\n",
    "file = open(\"data/test.txt\", 'r+b')\n",
    "file.close()\n",
    "\n",
    "# open a file for appending in binary mode.\n",
    "file = open(\"data/test.txt\", 'ab')\n",
    "file.close()\n",
    "\n",
    "# creates a file if it does not exist otherwise throws an error\n",
    "file = open(\"data/test.txt\", 'x')\n",
    "file.close()"
   ]
  },
  {
   "cell_type": "markdown",
   "metadata": {},
   "source": [
    "## The `close()` method\n",
    "Every file that has been opened **MUST** be closed, once the current Python program has finished operations on the file. This is particuarly important if the file being accessed is used by other programs or users. The file will be locked preventing others from using the file until the `close()` method has been called. You have already seen examples of the `close()` method being used in the previous code example.\n",
    "\n",
    "In fact there is another way to access files that automatically closes the file following access by using the `with` keyword. It is good practise to use this approach where applicable. The following example shows how this can be used to access a file and read its contents."
   ]
  },
  {
   "cell_type": "code",
   "execution_count": null,
   "metadata": {},
   "outputs": [],
   "source": [
    "# open a file using the 'with' keyword - the system will automatically\n",
    "# close the file once the read method has finished\n",
    "with open(\"data/test.txt\",'rb') as file:\n",
    "    print(file.read()) "
   ]
  },
  {
   "cell_type": "markdown",
   "metadata": {},
   "source": [
    "### The `read([size])` method\n",
    "This method reads the quantity of data specified by the optional `size` parameter into memory and returns the result as either a string (in text mode) or a `bytes` object (in binary mode). If `size` is ommitted then the entire file contents are read into memory. Once the end of the file is reached, the method returns an empty string `''` or `bytes` literal `b''` when called."
   ]
  },
  {
   "cell_type": "code",
   "execution_count": null,
   "metadata": {},
   "outputs": [],
   "source": [
    "# read the whole content\n",
    "with open(\"data/president_heights.csv\") as file:\n",
    "    print(file.read())\n",
    "\n",
    "# read the first 21 characters of the file\n",
    "with open(\"data/president_heights.csv\") as file:\n",
    "    print(file.read(21))"
   ]
  },
  {
   "cell_type": "markdown",
   "metadata": {},
   "source": [
    "### The `readline()` and `readlines()` methods\n",
    "These methods read lines of text from the open file. A line is defined as a line of text which ends with a newline character (`\\n`). The `readline()` method reads a single line while the `readlines()` method reads all lines in the open file and places them into a `List`. NOTE: these methods retain the newline character in their return values."
   ]
  },
  {
   "cell_type": "code",
   "execution_count": null,
   "metadata": {},
   "outputs": [],
   "source": [
    "# read the first line in the given file\n",
    "with open(\"data/president_heights.csv\", 'r') as file:\n",
    "    print(file.readline())\n",
    "\n",
    "# read the first line in the given file in binary mode\n",
    "with open(\"data/president_heights.csv\", 'rb') as file:\n",
    "    print(file.readline())\n",
    "\n",
    "# read all the lines in the given file\n",
    "with open(\"data/president_heights.csv\", 'r') as file:\n",
    "    print(file.readlines())"
   ]
  },
  {
   "cell_type": "markdown",
   "metadata": {},
   "source": [
    "It is common to iterate through a file one line at a time. There is another more efficient and simpler way to access each line in a file using the a `for` loop."
   ]
  },
  {
   "cell_type": "code",
   "execution_count": null,
   "metadata": {},
   "outputs": [],
   "source": [
    "# print the contents of a given file one line at a time using for\n",
    "with open(\"data/president_heights.csv\", 'r') as file:\n",
    "    for line in file:\n",
    "        print(line)"
   ]
  },
  {
   "cell_type": "markdown",
   "metadata": {},
   "source": [
    "### The `write(data)` method\n",
    "This method writes the given `data` to the open file. The form of data written depends on whether the file was opened in text mode or binary mode. In text mode, the `data` parameter should be a string. In binary mode, the `data` parameter should be a `bytes` object. Any other data you wish to write to a file needs to be converted into one of these before it can be written. The method returns the number of character/bytes written to the file."
   ]
  },
  {
   "cell_type": "code",
   "execution_count": null,
   "metadata": {},
   "outputs": [],
   "source": [
    "# write a string to a file in text mode\n",
    "with open(\"data/test.txt\",'w') as file:\n",
    "    file.write('Here is some text!')\n",
    "\n",
    "# write a Bytes object to a file in binary mode\n",
    "#data = bytes(10) # create a bytes object with 10 bytes initialised to zero\n",
    "#with open(\"data/test.txt\",'wb') as file:\n",
    "#    val = 1\n",
    "#    file.write(data)\n",
    "    \n",
    "# write a tuple to a file in text mode\n",
    "#with open(\"data/test.txt\",'w') as file:\n",
    "#    value = ('the answer', 42)\n",
    "#    file.write(str(value)) # convert the tuple to a string\n",
    "    \n",
    "# review the results of the write operation (uncomment each example above to see result)\n",
    "with open(\"data/test.txt\",'r') as file:\n",
    "    print(file.read()) "
   ]
  },
  {
   "cell_type": "markdown",
   "metadata": {},
   "source": [
    "### The `writelines(data)` method\n",
    "This method write lines of text to an open file. The form of data written depends on whether the file was opened in text mode or binary mode. In text mode, the `data` parameter should be an iterable of strings (typically a `List`). In binary mode, the `data` parameter should be an iterable of `bytes` object."
   ]
  },
  {
   "cell_type": "code",
   "execution_count": null,
   "metadata": {},
   "outputs": [],
   "source": [
    "# write a list of strings to a file in text mode\n",
    "list_of_strings = [\"\\nA dozen, a gross, and a score\", \"\\nPlus three times the square root of four\",\n",
    "                  \"\\nDivided by seven\", \"\\nPlus five times eleven\",\n",
    "                   \"\\nIs nine squared and not a bit more\"]\n",
    "with open(\"data/test.txt\",'w') as file:\n",
    "    file.writelines(list_of_strings)\n",
    "\n",
    "# write a list of bytes objects to a file in binary mode\n",
    "#bytes1 = bytes(10)\n",
    "#bytes2 = bytes(10)\n",
    "#list_of_bytes = [bytes1, bytes2]\n",
    "#with open(\"data/test.txt\",'wb') as file:\n",
    "#    file.writelines(list_of_bytes)\n",
    "\n",
    "# review the results of the write operation (uncomment each example above to see result)\n",
    "with open(\"data/test.txt\",'r') as file:\n",
    "    print(file.read()) "
   ]
  },
  {
   "cell_type": "markdown",
   "metadata": {},
   "source": [
    "### <font color='red'><u>Worksheet Exercises</u></font>\n",
    "1. Write a Python function, `printLines()` which takes two parameters, `filename` and `n` where `filename` is the file to use and `n` is the number of lines to print. Postive `n` values indicate printing should begin at the start of the file while negative `n` values indicate printing should begin at the end of the file. A sample file `data/sample1.txt` has been provided for this exercise. Use your function to print the first 3 and last 3 lines.\n",
    "2. The file `data/sample2.csv` contains 100 integer values. Write a Python program to find the minimum, maximimum and average value. Print these values to the screen.\n",
    "3. One of the earliest forms of cipher used by Julius Caesar in Roman times involves shifting letters a given number of positions in the alphabet (see https://en.wikipedia.org/wiki/Caesar_cipher). For example, assuming the shift value is 3, then all occurrences of the letter `A` in a text are substituted with the letter `D`, `B` with `E` and so on. Write a Python program that uses this technique to encrypt a given file `data/sample3.txt` using the shift value 12 and write the result into a new file `data/sample3_shifted.txt`. Assume that only capital letters are used and other character should be passed through unchanged (such as a space or a full stop).\n",
    "4. Create a new solution (based on your solution to 3. above) to decrypt the file `data/sample4_shifted.txt` and write the result into a new file `data/sample4.txt` assuming the shift value used was 4. NOTE: you will need to shift the letters in the other direction."
   ]
  },
  {
   "cell_type": "code",
   "execution_count": null,
   "metadata": {},
   "outputs": [],
   "source": [
    "# 1.\n",
    "def printLines(filename, n):\n",
    "    with open(filename) as handle:\n",
    "        allLines = handle.readlines()\n",
    "    \n",
    "    if n > 0:\n",
    "        for i in range(n):\n",
    "            print(allLines[i])\n",
    "    else:\n",
    "        for i in range(len(allLines)-abs(n), len(allLines), 1):\n",
    "            print(allLines[i])\n",
    "        \n",
    "printLines('data/sample1.txt', 3)\n",
    "printLines('data/sample1.txt', -3)\n",
    "\n",
    "# 1. alternative solution\n",
    "#def printLines(filename, n):\n",
    "#    with open(filename) as handle:\n",
    "#        allLines = handle.readlines()\n",
    "#    \n",
    "#    if n > 0:\n",
    "#        for line in allLines[:n]:\n",
    "#            print(line)\n",
    "#    elif n < 0:\n",
    "#        for line in allLines[n:]:\n",
    "#            print(line)\n",
    "#        \n",
    "#printLines('data/sample1.txt', 3)\n",
    "#printLines('data/sample1.txt', -3)\n",
    "\n",
    "# 2.\n",
    "with open('data/sample2.csv') as handle:\n",
    "    data = handle.read()\n",
    "\n",
    "aList = data.split(',') # assuming each substring is separated by a comma\n",
    "\n",
    "# use the map() function to convert each substring number into an actual number\n",
    "aList = list(map(int, aList)) \n",
    "\n",
    "print('Min: ', min(aList), 'Max: ', max(aList), 'Mean: ', sum(aList)/len(aList))\n",
    "\n",
    "# 3.\n",
    "shift = 12\n",
    "with open('data/sample3.txt') as handle:\n",
    "    allLines = handle.readlines()\n",
    "\n",
    "resultFile = open('data/sample3_shifted.txt', 'w') # open a file to record result\n",
    "\n",
    "for line in allLines:\n",
    "    shiftedLine = \"\" # create an empty string to store the shifted letters into\n",
    "    for c in line:\n",
    "        # only CAPITAL letters will be shifted\n",
    "        if c.isalpha() == True and c.isupper() == True:\n",
    "            unicodeVal = ord(c) - ord('A') # find value for letter\n",
    "            shifted = unicodeVal + shift # shift letter the given number of places\n",
    "\n",
    "            # if a shifted letter goes past Z then reset it to start as A\n",
    "            fixed_shifted = shifted % 26\n",
    "            \n",
    "            # add shifted letter to the string holding the encryped message\n",
    "            shiftedLine += chr(fixed_shifted + ord('A'))\n",
    "        else:\n",
    "            shiftedLine += c # letter is added unchanged\n",
    "    resultFile.write(shiftedLine) # write the shifted letters to the file\n",
    "resultFile.close() # must close the open file\n",
    "\n",
    "# 4.\n",
    "shift = 4\n",
    "with open('data/sample4_shifted.txt') as handle:\n",
    "    allLines = handle.readlines()\n",
    "\n",
    "resultFile = open('data/sample4.txt', 'w') # open a file to record result\n",
    "\n",
    "for line in allLines:\n",
    "    shiftedLine = \"\" # create an empty string to store the shifted letters into\n",
    "    for c in line:\n",
    "        # only CAPITAL letters will be shifted\n",
    "        if c.isalpha() == True and c.isupper() == True:\n",
    "            unicodeVal = ord(c) - ord('A') # find value for letter\n",
    "            shifted = unicodeVal - shift # shift letter the given number of places\n",
    "\n",
    "            # if a shifted letter goes past Z then reset it to start as A\n",
    "            fixed_shifted = shifted % 26\n",
    "            \n",
    "            # add shifted letter to the string holding the encryped message\n",
    "            shiftedLine += chr(fixed_shifted + ord('A'))\n",
    "        else:\n",
    "            shiftedLine += c # letter is added unchanged\n",
    "    resultFile.write(shiftedLine) # write the shifted letters to the file\n",
    "resultFile.close() # must close the open file"
   ]
  },
  {
   "cell_type": "markdown",
   "metadata": {},
   "source": [
    "# Exception Handling"
   ]
  },
  {
   "cell_type": "markdown",
   "metadata": {},
   "source": [
    "No matter your skill as a programmer, you will eventually make a coding mistake. Such mistakes come in three basic flavors:\n",
    "\n",
    "* *Syntax errors*: Errors where the code is not valid Python (generally easy to fix)\n",
    "* *Runtime errors*: Errors where syntactically valid code fails to execute, perhaps due to invalid user input (sometimes easy to fix)\n",
    "* *Semantic/Logic errors*: Errors in logic: code executes without a problem, but the result is not what you expect (often very difficult to track-down and fix)\n",
    "\n",
    "Here we're going to focus on how to deal cleanly with Python *runtime errors* via its exception handling framework. Exception handling makes your code more robust and helps prevent potential failures that would cause your program to stop in an uncontrolled manner. Imagine if you have written a code which is deployed in production and still, it terminates due to an exception, your client would not appreciate that, so it's better to handle the particular exception beforehand and avoid the chaos.\n",
    "\n",
    "Below are two example runtime errors which cause execution of the script to fail:"
   ]
  },
  {
   "cell_type": "code",
   "execution_count": null,
   "metadata": {},
   "outputs": [],
   "source": [
    "a = 2\n",
    "b = 'three'\n",
    "a + b"
   ]
  },
  {
   "cell_type": "code",
   "execution_count": null,
   "metadata": {},
   "outputs": [],
   "source": [
    "100 / 0"
   ]
  },
  {
   "cell_type": "markdown",
   "metadata": {},
   "source": [
    "There are dozens of built-in Python exceptions. The type is printed as part of the error message when an exception occurs. The types in the above two examples are ZeroDivisionError and TypeError. The remaining part of the error line provides the details of what caused the error based on the type of exception. The following link provides a complete list of errors: https://docs.python.org/3/library/exceptions.html."
   ]
  },
  {
   "cell_type": "markdown",
   "metadata": {},
   "source": [
    "## Catching Exceptions: `try` and `except`\n",
    "The main tool Python gives you for handling runtime exceptions is the `try...except` clause. The `try` clause lets you test a set of statements for runtime errors. The except clause handles the runtime error. The following example illustrates the basic exception handling formulation:"
   ]
  },
  {
   "cell_type": "code",
   "execution_count": null,
   "metadata": {},
   "outputs": [],
   "source": [
    "try:\n",
    "    x = 1 / \"0\" # ZeroDivisionError\n",
    "except:\n",
    "    print(\"something bad happened!\")"
   ]
  },
  {
   "cell_type": "markdown",
   "metadata": {},
   "source": [
    "However, it is possible to specify which exception to \"catch\"  and process by specifying the name of exception in the except statement. A full list of built-in exceptions is given at: https://docs.python.org/3/library/exceptions.html. The term \"catch\" is commonly used in exception handling to describe an error this is explicitly processed. In the following example, the error has changed to a `TypeError`. "
   ]
  },
  {
   "cell_type": "code",
   "execution_count": null,
   "metadata": {},
   "outputs": [],
   "source": [
    "try:\n",
    "    x = 1 / \"0\" # TypeError\n",
    "except ZeroDivisionError:\n",
    "    print(\"something bad happened!\")"
   ]
  },
  {
   "cell_type": "markdown",
   "metadata": {},
   "source": [
    "The exception clause does not explicitly catch the `TypeError` exception and so simply ignores it. In fact, we can list types of exception that can be caught. The following example adds the `TypeError` exception to the list of exceptions it can deal with:"
   ]
  },
  {
   "cell_type": "code",
   "execution_count": null,
   "metadata": {},
   "outputs": [],
   "source": [
    "try:\n",
    "    x = 1 / \"0\" # TypeError\n",
    "except (ZeroDivisionError, TypeError):\n",
    "    print(\"something bad happened!\")"
   ]
  },
  {
   "cell_type": "markdown",
   "metadata": {},
   "source": [
    "Finally, we may need to provide different functionality for each type of exception. In such cases, we can add multiple exception clauses. It is common when doing this to add a final `except` clause to catch all other types of runtime error. In this example, a `NameError` exception is generated and caught by the final exception clause."
   ]
  },
  {
   "cell_type": "code",
   "execution_count": null,
   "metadata": {},
   "outputs": [],
   "source": [
    "try:\n",
    "    x = y / 0 # NameError\n",
    "except ZeroDivisionError:\n",
    "    print(\"You tried to divide by zero\")\n",
    "except TypeError:\n",
    "    print(\"You have used an incorrect type\")\n",
    "except:\n",
    "    print(\"something bad happened!\")\n"
   ]
  },
  {
   "cell_type": "markdown",
   "metadata": {},
   "source": [
    "## The `else` keyword\n",
    "When using exception handling we may wish to execute block of code if no runtime errors were raised by the `try` clause. To do this we use the `else` keyword. The ordering of the clauses is important. The `else` clause should come after all `except` clauses. The following example illustrates this:"
   ]
  },
  {
   "cell_type": "code",
   "execution_count": null,
   "metadata": {},
   "outputs": [],
   "source": [
    "try:\n",
    "    print(\"Hello World!\")\n",
    "except:\n",
    "    print(\"Something went wrong\")\n",
    "else:\n",
    "    print(\"Nothing went wrong\")"
   ]
  },
  {
   "cell_type": "markdown",
   "metadata": {},
   "source": [
    "## The `finally` keyword\n",
    "This keyword is used to specify code that should be executed after the exception code has been processed. While on the surface this looks identical to the `else` keyword above, there is a key difference between them. The `else` code is only executed of there is no runtime error while the `finally` code is executed regardless of whether there is an error or not. Again, the ordering of the clauses is important: `try`..`except`..`else`..`finally`."
   ]
  },
  {
   "cell_type": "code",
   "execution_count": null,
   "metadata": {},
   "outputs": [],
   "source": [
    "try:\n",
    "    print(x) # NameError\n",
    "except:\n",
    "    print(\"Something went wrong\")\n",
    "finally:\n",
    "    print(\"Executed after the try...except has finished\")"
   ]
  },
  {
   "cell_type": "markdown",
   "metadata": {},
   "source": [
    "## Raising an exception using `raise`\n",
    "As we have already seen Python will generate exceptions automatically when a given runtime error has occurred. Sometimes we may wish to make use of exceptions programmatically. By this we mean recognising an issue using program logic (such as an `if` statement) and forcing an exception to occur. This can be useful when developing your own custom exceptions (see later section for more information on custom exceptions) or during the the development process to help identify bugs. To do this we use the `raise` keyword. This `raise` keyword is followed by the exception we wish to raise. The example below illustrates this:"
   ]
  },
  {
   "cell_type": "code",
   "execution_count": null,
   "metadata": {},
   "outputs": [],
   "source": [
    "N = 100\n",
    "if N > 50:\n",
    "    raise RuntimeError(\"Input Value too large!\")"
   ]
  },
  {
   "cell_type": "markdown",
   "metadata": {},
   "source": [
    "It is possible to use the `raise` keyword without any exception included. In this situation, we are re-raising a previous exception. It is common to do this in an `except` clause. This causes the exception to be passed back to the calling function. If that function has its own try..except code blocks the exception can be dealt with again. This can be useful to help track down issues within your Python code where information can be added to the console output at each step of the algorithm. The following example illustrates this:"
   ]
  },
  {
   "cell_type": "code",
   "execution_count": null,
   "metadata": {},
   "outputs": [],
   "source": [
    "def doSomething(N):\n",
    "    try:\n",
    "        if N > 50:\n",
    "            raise RuntimeError\n",
    "    except:\n",
    "        print(\"doSomething(): Input Value too large!\")\n",
    "        raise # re-raise the RuntimeError exception\n",
    "\n",
    "N = 100\n",
    "try:\n",
    "    doSomething(N)\n",
    "except:\n",
    "    print(\"Error occurred in doSomething()\")"
   ]
  },
  {
   "cell_type": "markdown",
   "metadata": {},
   "source": [
    "## Defining Custom Exceptions\n",
    "Programs may name their own exceptions by creating a new exception class. Exceptions should typically be derived from the base class `Exception`, either directly or indirectly. Exception classes can be defined which do anything any other class can do, but are usually kept simple. This definition of a custom exception uses class inheritance. In other words, your new custom exception is defined a special kind of existing exception. The following example illustartes how to create and use a custom exception called `MySpecialError` which is derived from the Base class `Exception`:"
   ]
  },
  {
   "cell_type": "code",
   "execution_count": null,
   "metadata": {},
   "outputs": [],
   "source": [
    "# simple custom exception class which inherits from Exception\n",
    "class MySpecialError(Exception): \n",
    "    pass # no operation command required for this empty class\n",
    "\n",
    "raise MySpecialError(\"An error message!\") # raise the custom exception to test"
   ]
  },
  {
   "cell_type": "markdown",
   "metadata": {},
   "source": [
    "### <font color='red'><u>Worksheet Exercises</u></font>\n",
    "1. Add appropriate exception handling to the following code snippet:\n",
    "```\n",
    "    f = open('insurance.csv')\n",
    "    s = f.readline()\n",
    "```\n",
    "2. Add an appropriate clause to your solution to 1. above to output a message when the code executes without exception. Adjust your code to open the file `data\\insurance.csv`.\n",
    "3. Add an appropriate clause to close the file once the code has finished.\n",
    "4. Create a custom exception called `ParameterError`.\n",
    "5. Create a new `addNumbers()` function to add two numbers together and return the result. Use your new `ParameterError` exception to cause an error if either parameter is not a number (i.e. int or float).\n",
    "6. Using appropriate exception handling, use your new `addNumbers()` function to add the following two values: `2` and `three`."
   ]
  },
  {
   "cell_type": "code",
   "execution_count": null,
   "metadata": {},
   "outputs": [],
   "source": [
    "# 1.\n",
    "\n",
    "try:\n",
    "    f = open('insurance.csv')\n",
    "    s = f.readline()\n",
    "except OSError as err: # captures errors related to OS functionality\n",
    "    print(err) # print the exception details\n",
    "    \n",
    "# 2.\n",
    "\n",
    "try:\n",
    "    f = open('data\\insurance.csv')\n",
    "    s = f.readline()\n",
    "except OSError as err: # captures errors related to OS functionality\n",
    "    print(err) # print the exception details\n",
    "else:\n",
    "    print(\"File opened!\")\n",
    "    \n",
    "# 3.\n",
    "\n",
    "try:\n",
    "    f = open('data\\insurance.csv')\n",
    "    s = f.readline()\n",
    "except OSError as err: # captures errors related to OS functionality\n",
    "    print(err) # print the exception details\n",
    "else:\n",
    "    print(\"File opened!\")\n",
    "finally:\n",
    "    f.close()\n",
    "    \n",
    "# 4.\n",
    "\n",
    "class ParameterError(Exception): \n",
    "    pass # no operation command required for this empty class\n",
    "\n",
    "# 5.\n",
    "import numbers # provides functionality for numbers in Python\n",
    "\n",
    "def addNumbers(x, y):\n",
    "    # check if x is a number\n",
    "    if isinstance(x, numbers.Number) == False: \n",
    "        raise ParameterError(\"Parameter 1 must be a number\")\n",
    "    # check if y is a number\n",
    "    elif isinstance(y, numbers.Number) == False:\n",
    "        raise ParameterError(\"Parameter 2 must be a number\") \n",
    "    else:\n",
    "        return (x + y) # since both are numbers we can do the addition\n",
    "\n",
    "# 6.    \n",
    "print(addNumbers(2,\"three\"))\n"
   ]
  }
 ],
 "metadata": {
  "kernelspec": {
   "display_name": "Python 3 (ipykernel)",
   "language": "python",
   "name": "python3"
  },
  "language_info": {
   "codemirror_mode": {
    "name": "ipython",
    "version": 3
   },
   "file_extension": ".py",
   "mimetype": "text/x-python",
   "name": "python",
   "nbconvert_exporter": "python",
   "pygments_lexer": "ipython3",
   "version": "3.8.19"
  }
 },
 "nbformat": 4,
 "nbformat_minor": 4
}
