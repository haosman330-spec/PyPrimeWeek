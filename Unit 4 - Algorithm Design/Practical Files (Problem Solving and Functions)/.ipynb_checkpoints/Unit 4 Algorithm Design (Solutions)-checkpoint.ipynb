{
 "cells": [
  {
   "cell_type": "markdown",
   "metadata": {},
   "source": [
    "# MSc Artificial Intelligence Python Primer\n",
    "# Unit 4 Jupyter Notebook \n",
    "# Algorithm Design\n",
    "\n",
    "\n",
    "## Goals\n",
    "Unit 4 focuses on building algorithmic solutions to programming problems and introduces functions as a solution to help with this process. Units 1-3 introduced the fundamental features of the Python programming language and focused very much on practical experience of using these features. This week we will bring these features together to start solving realistic and relevant programming problems.\n",
    "\n",
    "### Problem Solving\n",
    "Structured programming is a method of programming designed to help make large programs easier to read. It is aimed at improving the clarity, quality, and development time of a computer program by making extensive use of the structured control flow constructs. Python programs are composed of one or more of the following structures: Sequences, Selection and Iteration. Sequences are simply a group of python statements which are executed in sequence. Selections are choices that can be added to a program to execute sequences dependent upon some condition, e.g. if x = 5 then perform sequence A otherwise perform sequence B. Finally, iterations are sequences of statements that are repeated multiple times.\n",
    "\n",
    "The main idea behind structured programming is to divide and conquer. As computers, technology, and software have advanced, programs have become larger and more difficult to write and maintain. Structured programming breaks down complex programs into simple tasks. The rule of thumb is that if a task is too complex to be described simply, then the task needs to be broken down further. When the task is small enough to be self contained and easily understood , then the task can be programmed. Structured programming gave rise to a number of other movements, Object-Oriented Programming being one of the more important ones."
   ]
  },
  {
   "cell_type": "markdown",
   "metadata": {},
   "source": [
    "### Functions\n",
    "A function is a self-contained sequence of program statements that accomplishes a specific task. Functions help to give structure to your programs and promote code re-use. Functions can accept data when called (parameters) and give data back to the calling code (return) if required. Functions should use a name that helps a developer to understand what the functions task is. To call a function, you simple use its name, followed by `()` brackets with any parameters included inside the brackets in a comma-separated list.\n",
    "\n",
    "#### Defining a function\n",
    "In the following example, we build on the Fibonacci sequence we learnt about in week 3. A function is defined which prints all of the Fibonacci series numbers up to the given parameter value `n`. NOTE: in Python the function definition must be executed before it can be used. Comments have been added to every line of the function definition to help you to follow the algorithm and function construction."
   ]
  },
  {
   "cell_type": "code",
   "execution_count": null,
   "metadata": {},
   "outputs": [],
   "source": [
    "# create a function that prints the fibonacci series up to the given parameter value of n\n",
    "def fibonacci(n):   # def is used to define a new function; parameters are listed inside the brackets.\n",
    "    \"\"\"Print a Fibonacci series up to n.\"\"\"    # this docstring provides documentation for the help() function\n",
    "    a, b = 0, 1              # this sets a = 0 and b = 1\n",
    "    while a < n:             # loop until a is greater than or equal to n\n",
    "        print(a, end=' ')    # output the current value\n",
    "        a, b = b, a+b        # set a and b to their new values, a = b and b = a + b \n",
    "    print()                  # new line"
   ]
  },
  {
   "cell_type": "markdown",
   "metadata": {},
   "source": [
    "#### Calling a function\n",
    "A function may or may not have any parameters. If the function requires no parameters then leave the `()` brackets empty. If the function does require parameters this should be placed inside the `()` brackets in the correct order separated by `,` commas.\n",
    "\n",
    "The example below shows how to call the `fibonacci()` function with an input value of 2000. Once you have executed this code, try changing the input value to something else, say 10000."
   ]
  },
  {
   "cell_type": "code",
   "execution_count": null,
   "metadata": {},
   "outputs": [],
   "source": [
    "# Call the fibonacci function with n=2000\n",
    "fibonacci(2000)"
   ]
  },
  {
   "cell_type": "markdown",
   "metadata": {},
   "source": [
    "#### Returning values from a function\n",
    "Functions can give data back to the calling code if required. This is implement by including a `return` statement in the function code. Unlike many programming languages Python also permits multiple return values to be defined.\n",
    "\n",
    "The example below shows how to define a function that returns a single value and how to use this function to assignment the resulting value into a variable. Try changing the input parameters to see if the `add()` function works correctly."
   ]
  },
  {
   "cell_type": "code",
   "execution_count": null,
   "metadata": {},
   "outputs": [],
   "source": [
    "# define a simple function that returns the addition of two input values\n",
    "def add(a,b):\n",
    "    return a+b\n",
    "\n",
    "# call the function and assignment the result to a variable\n",
    "c = add(3,4)\n",
    "\n",
    "print(c)"
   ]
  },
  {
   "cell_type": "code",
   "execution_count": null,
   "metadata": {},
   "outputs": [],
   "source": [
    "# define a simple function that returns multiple values\n",
    "def get_user_details():\n",
    "    return \"Jake\", \"jacob.baker@uwe.ac.uk\"\n",
    "\n",
    "# unpack the return values\n",
    "(username, email) = get_user_details()\n",
    "\n",
    "print(username, email)"
   ]
  },
  {
   "cell_type": "markdown",
   "metadata": {},
   "source": [
    "We can also yield values from a function which allows us to create generators for use in loops. `yield` is useful for when working with large datasets, or data streams, such as when reading large files, because the data is not stored in memory."
   ]
  },
  {
   "cell_type": "code",
   "execution_count": null,
   "metadata": {},
   "outputs": [],
   "source": [
    "import csv\n",
    "\n",
    "def csv_data_reader(csv_filename):\n",
    "    \"\"\" Generator for CSV data so we don't have to store it all in memory \"\"\"\n",
    "    with open(csv_filename, 'r') as csv_file:\n",
    "        for row in csv.reader(csv_file):\n",
    "            yield row\n",
    "\n",
    "\n",
    "csv_filename = 'csv_data/temperature_data.csv'\n",
    "\n",
    "count = 0\n",
    "avg = 0\n",
    "\n",
    "for row in csv_data_reader(csv_filename):\n",
    "    count += 1\n",
    "    avg += float(row[1])\n",
    "\n",
    "avg = avg / count\n",
    "\n",
    "print(f\"Total samples: {count}, Average temperature: {avg}\")"
   ]
  },
  {
   "cell_type": "markdown",
   "metadata": {},
   "source": [
    "#### Optional Parameters\n",
    "\n",
    "Function parameters can also be made optional by giving them a value in the function definition."
   ]
  },
  {
   "cell_type": "code",
   "execution_count": null,
   "metadata": {},
   "outputs": [],
   "source": [
    "# run this to see how default parameters work\n",
    "\n",
    "def print_string(str_to_print=\"Using default parameter\"):\n",
    "    print(str_to_print)\n",
    "\n",
    "print_string()\n",
    "print_string(\"Hello world\")"
   ]
  },
  {
   "cell_type": "code",
   "execution_count": null,
   "metadata": {},
   "outputs": [],
   "source": [
    "# an example of an inbuilt function with an optional parameter\n",
    "# is the int cast function takes an optional base \n",
    "\n",
    "# prints 46 as base 10\n",
    "print(int(\"46\", 10))\n",
    "\n",
    "# prints 46 as base 16 (0x46)\n",
    "print(int(\"46\", 16))"
   ]
  },
  {
   "cell_type": "markdown",
   "metadata": {},
   "source": [
    "It would be useful to modify the CSV reader function to take an optional parameter that skips the first row. Typically the first row of a CSV file is used for the column headers."
   ]
  },
  {
   "cell_type": "code",
   "execution_count": null,
   "metadata": {},
   "outputs": [],
   "source": [
    "import csv\n",
    "\n",
    "def csv_data_reader(csv_filename, skip_header_row=False):\n",
    "    row_count = 0\n",
    "\n",
    "    \"\"\" Generator for CSV data so we don't have to store it all in memory \"\"\"\n",
    "    with open(csv_filename, 'r') as csv_file:\n",
    "        for row in csv.reader(csv_file):\n",
    "            row_count += 1\n",
    "\n",
    "            if skip_header_row and row_count <= 1:\n",
    "                    continue\n",
    "\n",
    "            yield row\n",
    "\n",
    "# this file has headers in the first row\n",
    "csv_filename = 'csv_data/temperature_data_with_header.csv'\n",
    "\n",
    "count = 0\n",
    "avg = 0\n",
    "\n",
    "# set the optional parameter to skip the header row\n",
    "for row in csv_data_reader(csv_filename, skip_header_row=True):\n",
    "    count += 1\n",
    "    avg += float(row[1])\n",
    "\n",
    "avg = avg / count\n",
    "\n",
    "print(f\"Total samples: {count}, Average temperature: {avg}\")"
   ]
  },
  {
   "cell_type": "markdown",
   "metadata": {},
   "source": [
    "## <font color=\"red\"><b>Workbook Exercise</b></font>"
   ]
  },
  {
   "cell_type": "markdown",
   "metadata": {},
   "source": [
    "1. Write a function that takes two parameters, multiplies them, and returns the result."
   ]
  },
  {
   "cell_type": "code",
   "execution_count": null,
   "metadata": {},
   "outputs": [],
   "source": [
    "def multiply(a, b):\n",
    "    return a*b\n",
    "\n",
    "print(multiply(10,10))"
   ]
  },
  {
   "cell_type": "markdown",
   "metadata": {},
   "source": [
    "2. Write a function that takes a string and returns the string and the length of the string (you can use `len()` to get the length of a string)."
   ]
  },
  {
   "cell_type": "code",
   "execution_count": null,
   "metadata": {},
   "outputs": [],
   "source": [
    "def get_string_and_length(string):\n",
    "    return (string, len(string))\n",
    "\n",
    "print(get_string_and_length(\"Hello world\"))"
   ]
  },
  {
   "cell_type": "markdown",
   "metadata": {},
   "source": [
    "3. Write a function that takes a list of numbers, loops through the list, and yields the odd numbers (hint: you can use `if <var> % 2 == 1:` to determine if a variable is odd)."
   ]
  },
  {
   "cell_type": "code",
   "execution_count": null,
   "metadata": {},
   "outputs": [],
   "source": [
    "def get_odd_numbers(numbers):\n",
    "    for num in numbers:\n",
    "        if num % 2 == 1:\n",
    "            yield num\n",
    "\n",
    "print(list(get_odd_numbers([1,2,3,4,5,6,7,8,9])))"
   ]
  },
  {
   "cell_type": "markdown",
   "metadata": {},
   "source": [
    "# MoSCoW Prioritisation"
   ]
  },
  {
   "cell_type": "markdown",
   "metadata": {},
   "source": [
    "When working with client requirements it is useful to have a clear understanding of priority. The MoSCoW method is a popular way of prioritising client requirements by ranking them. The acronym MoSCoW stands for four different catagories of priority: Must, Should, Could, and Would.\n",
    "\n",
    "- **M**ust have this requirement and can not be released without it\n",
    "- **S**hould have this requirement but it can be released without\n",
    "- **C**ould have this requirement if there is time, less impact than Should requirement if excluded\n",
    "- **W**ould have this requirement, useful for preventing scope creep"
   ]
  },
  {
   "cell_type": "markdown",
   "metadata": {},
   "source": [
    "## Example Requirements\n",
    "\n",
    "Given the following information from a client we can split it out in to `Must`, `Should`, `Could`, and `Would` assumptions.\n",
    "\n",
    "\n",
    "> The software needs to record the number of button clicks and show the resulting data in a graph. The graph needs to show the last week's worth of data and it would be useful if the graph's time period could be changed to show one month. I would like to use historic data to predict the number of clicks a button might receive in the next week. In the future the software should be able to record data from multiple buttons.\n",
    "\n",
    "### Must\n",
    "\n",
    "- Record the total clicks of one button\n",
    "- Display the number of clicks over the last week\n",
    "\n",
    "### Should \n",
    "\n",
    "- Allow the user to change the date range of displayed data\n",
    "\n",
    "### Could\n",
    "\n",
    "- Analyse historic data to predict future number of clicks\n",
    "\n",
    "### Would\n",
    "\n",
    "- Handle multiple buttons "
   ]
  },
  {
   "cell_type": "markdown",
   "metadata": {},
   "source": [
    "# Designing an Algorithm"
   ]
  },
  {
   "cell_type": "markdown",
   "metadata": {},
   "source": [
    "## Pseudocode"
   ]
  },
  {
   "cell_type": "markdown",
   "metadata": {},
   "source": [
    "Pseudocode can be used to help design algorithms before writing any code. It is not a programming language but is a way of describing a set of instructions. There is no standardised notation for pseudocode but there are some that are more common than others. \n",
    "\n",
    "For this workbook we will use the following notation:\n",
    "\n",
    "- INPUT - Read input from the user\n",
    "- OUTPUT - Print something to the screen\n",
    "- SET - Set a variable's value\n",
    "- STORE - Store a result in a variable\n",
    "- WHILE/ENDWHILE - A while loop\n",
    "- FOR/ENDFOR - A for loop\n",
    "- IF.. THEN.. ELSE.. ENDIF - if/elif/else flow control\n",
    "- INC - Increment the variable by one\n",
    "- APPEND... TO... - append variable to list\n",
    "\n",
    "Statements written one after the other and presumed to be executed as such, e.g.\n",
    "\n",
    "```\n",
    "INPUT first number\n",
    "INPUT second number\n",
    "SET result to 0\n",
    "Multiply first and second number, STORE in result\n",
    "OUTPUT result\n",
    "```\n",
    "\n",
    "Much like Python, pseudocode uses whitespace to indicate scope. For example pseudocode that describes an algorithm that determines whether a student has passed or not would look like this:\n",
    "\n",
    "```\n",
    "INPUT pass grade\n",
    "INPUT students grade\n",
    "\n",
    "IF student's grade is greater than or equal to the pass grade\n",
    "    OUTPUT \"The student has passed\"\n",
    "ELSE\n",
    "    OUTPUT \"The student has failed\"\n",
    "ENDIF\n",
    "```\n",
    "\n",
    "Which then in Python we would implement as:"
   ]
  },
  {
   "cell_type": "code",
   "execution_count": null,
   "metadata": {},
   "outputs": [],
   "source": [
    "pass_grade = int(input(\"Enter the pass grade\"))\n",
    "students_grade = int(input(\"Enter the students grade\"))\n",
    "\n",
    "if students_grade >= pass_grade:\n",
    "    print(\"The student has passed\")\n",
    "else:\n",
    "    print(\"The student has failed\")"
   ]
  },
  {
   "cell_type": "markdown",
   "metadata": {},
   "source": [
    "Example using a for loop:\n",
    "\n",
    "```\n",
    "FOR number 1 to 20:\n",
    "    OUTPUT number\n",
    "ENDFOR\n",
    "```\n",
    "\n",
    "Which in Python would be:\n",
    "\n"
   ]
  },
  {
   "cell_type": "code",
   "execution_count": null,
   "metadata": {},
   "outputs": [],
   "source": [
    "for number in range(1,20):\n",
    "    print(number)"
   ]
  },
  {
   "cell_type": "markdown",
   "metadata": {},
   "source": [
    "Example using a while loops:\n",
    "\n",
    "```\n",
    "SET count to 0\n",
    "\n",
    "WHILE count is less than 10\n",
    "    OUTPUT count\n",
    "    INC count\n",
    "ENDWHILE\n",
    "```\n",
    "\n",
    "Which in Python would be:"
   ]
  },
  {
   "cell_type": "code",
   "execution_count": null,
   "metadata": {},
   "outputs": [],
   "source": [
    "count = 0\n",
    "\n",
    "while count < 10:\n",
    "    print(count)\n",
    "    count += 1"
   ]
  },
  {
   "cell_type": "markdown",
   "metadata": {},
   "source": [
    "## <font color=\"red\"><b>Workbook Exercise</b></font>"
   ]
  },
  {
   "cell_type": "markdown",
   "metadata": {},
   "source": [
    "1. Write pseudocode for a program that reads in the user's name and then prints it out.\n"
   ]
  },
  {
   "cell_type": "markdown",
   "metadata": {},
   "source": [
    "***write your pseudocode solution below between the backticks (double click this text):***\n",
    "```\n",
    "INPUT user name\n",
    "OUTPUT user name\n",
    "```"
   ]
  },
  {
   "cell_type": "markdown",
   "metadata": {},
   "source": [
    "2. Write pseudocode for a program that loops until the user enters the number 9."
   ]
  },
  {
   "cell_type": "markdown",
   "metadata": {},
   "source": [
    "***write your pseudocode solution below between the backticks (double click this text):***\n",
    "```\n",
    "SET number to 0\n",
    "\n",
    "WHILE number is not equal to 9\n",
    "    INPUT number\n",
    "ENDWHILE\n",
    "```"
   ]
  },
  {
   "cell_type": "markdown",
   "metadata": {},
   "source": [
    "\n",
    "3. Write pseudocode for the game Fizz Buzz for the values 1 to 20.\n",
    "\n",
    "\n",
    "**Fizz Buzz rules**:\n",
    "\n",
    "- Print \"Fizz\" if the current number is a multiple of 3\n",
    "- Print \"Buzz\" if the current number is a multiple of 5\n",
    "- Print \"FizzBuzz\" if the current number is a multiple of 3 and 5\n",
    "- Print the number if none of the above\n",
    "\n",
    "Note: to check whether a number is a multiple of another: `if [number] MOD [another number] equals 0`"
   ]
  },
  {
   "cell_type": "markdown",
   "metadata": {},
   "source": [
    "***write your pseudocode solution below between the backticks (double click this text):***\n",
    "```\n",
    "FOR number 1 to 20\n",
    "    IF number mod 3 is 0\n",
    "        OUTPUT Fizz\n",
    "    ELSE IF number mod 5 is 0 \n",
    "        OUTPUT Buzz\n",
    "    ELSE IF number mod 15 is 0\n",
    "        OUTPUT FizzBuzz\n",
    "    ELSE\n",
    "        OUTPUT number\n",
    "    ENDIF\n",
    "ENDFOR\n",
    "```"
   ]
  },
  {
   "cell_type": "markdown",
   "metadata": {},
   "source": [
    "4. Write the equivalent pseudocode for the following Python snippets."
   ]
  },
  {
   "cell_type": "code",
   "execution_count": null,
   "metadata": {},
   "outputs": [],
   "source": [
    "# print the vowels in a string\n",
    "greeting = \"Hello world\"\n",
    "vowels = set(\"aeiou\")\n",
    "\n",
    "for letter in greeting:\n",
    "    if letter in vowels:\n",
    "        print(letter)"
   ]
  },
  {
   "cell_type": "markdown",
   "metadata": {},
   "source": [
    "***write your pseudocode solution below between the backticks (double click this text):***\n",
    "```\n",
    "SET greeting to \"Hello world\"\n",
    "SET vowels to a set containing all vowels\n",
    "\n",
    "FOR letter in greeting\n",
    "    IF letter is in vowels\n",
    "        OUTPUT letter\n",
    "    ENDIF\n",
    "ENDFOR\n",
    "```"
   ]
  },
  {
   "cell_type": "code",
   "execution_count": null,
   "metadata": {},
   "outputs": [],
   "source": [
    "# long winded way of reversing a string\n",
    "string = \"Hello world\"\n",
    "reversed_string = \"\"\n",
    "\n",
    "for letter in range(len(string)-1, -1, -1):\n",
    "    reversed_string += string[letter]\n",
    "\n",
    "print(reversed_string)"
   ]
  },
  {
   "cell_type": "markdown",
   "metadata": {},
   "source": [
    "***write your pseudocode solution below between the backticks (double click this text):***\n",
    "```\n",
    "SET string to \"Hello world\"\n",
    "SET reversed string to empty string\n",
    "\n",
    "FOR number string length to 0\n",
    "    APPEND letter at number TO reversed string\n",
    "ENDFOR\n",
    "\n",
    "OUTPUT reversed string\n",
    "```"
   ]
  },
  {
   "cell_type": "markdown",
   "metadata": {},
   "source": [
    "# Problem Solving"
   ]
  },
  {
   "cell_type": "markdown",
   "metadata": {},
   "source": [
    "In this section we will work through two scenarios from real-world clients."
   ]
  },
  {
   "cell_type": "markdown",
   "metadata": {},
   "source": [
    "## Detecting Missing Data Points"
   ]
  },
  {
   "cell_type": "markdown",
   "metadata": {},
   "source": [
    "A client that runs a real-time environment monitoring service has approached us and asked us to solve a problem for them. They provide their clients with hardware that is deployed in remote locations, e.g. construction sites, for a number of months, that periodically sends sensor measurements to the cloud at a set interval. Given the nature of some of the locations getting a connection can be difficult. Sometimes they find that data is missing even with local buffering. They have an agreement with their clients that they have to provide 99.5% realiability in the upload of data.\n",
    "\n",
    "### Requirements\n",
    "\n",
    "To give themselves and users better visibility of whether they are meeting their uptime guarantee they want to calculate a daily tally and percentage of successfully uploaded samples. The script should print a message that lets the user know whether the percentage is above or below the SLA. In future a notification will be sent to the administrators. The script should also log the times between which samples are missing, e.g:\n",
    "\n",
    "`Missing samples between 2021-02-28 07:01:00 and 2021-02-28 07:03:00`\n",
    "\n",
    "### Technical Information\n",
    "\n",
    "- The time period of the data is always `15 hours`\n",
    "- Percentages should be rounded to 2 decimal places\n",
    "- `csv_data/noise_data_1.csv` is an example dataset above the SLA percentage\n",
    "- `csv_data/noise_data_2.csv` is an example dataset above the SLA percentage with slightly more missing points\n",
    "- The **expected** gap between samples is `1 minute`"
   ]
  },
  {
   "cell_type": "markdown",
   "metadata": {},
   "source": [
    "### <font color=\"red\"><b>Workbook Exercise</b></font>\n",
    "\n",
    "1. Use the MoSCoW method to describe the functional requirements from the client using the description above."
   ]
  },
  {
   "cell_type": "markdown",
   "metadata": {},
   "source": [
    "***write the requirements below (double click this text)***\n",
    "\n",
    "**Functional Requirements**\n",
    "\n",
    "Must:\n",
    "- Calculate a percentage of the total samples in the dataset\n",
    "- Round the result to 2 d.p.\n",
    "\n",
    "Should:\n",
    "- Log the times that samples are missing between\n",
    "\n",
    "Won't:\n",
    "- Send a message to administrators"
   ]
  },
  {
   "cell_type": "markdown",
   "metadata": {},
   "source": [
    "## Decomposing the problem"
   ]
  },
  {
   "cell_type": "markdown",
   "metadata": {},
   "source": [
    "Reading through the brief we'll need to use our CSV reader function from the previous example so we can deal with large amounts of data. Looking at the data in `noise_data_1.csv` it would be useful to use the modified CSV reader function that takes an optional parameter that skips the first row as the first row is the headers."
   ]
  },
  {
   "cell_type": "code",
   "execution_count": null,
   "metadata": {
    "tags": []
   },
   "outputs": [],
   "source": [
    "# add an optional parameter that skips the first row\n",
    "\n",
    "def csv_data_reader(csv_filename, skip_header_row=False):\n",
    "    count = 0\n",
    "\n",
    "    \"\"\" Generator for CSV data so we don't have to store it all in memory \"\"\"\n",
    "    with open(csv_filename, 'r') as csv_file:\n",
    "        for row in csv.reader(csv_file):\n",
    "            count += 1\n",
    "\n",
    "            if skip_header_row and count <= 1:\n",
    "                    continue\n",
    "\n",
    "            yield row"
   ]
  },
  {
   "cell_type": "markdown",
   "metadata": {},
   "source": [
    "The first thing we'll need to do is set up a for loop like we did in the previous example that counted the number of samples in the CSV dataset."
   ]
  },
  {
   "cell_type": "code",
   "execution_count": null,
   "metadata": {
    "tags": []
   },
   "outputs": [],
   "source": [
    "# using the csv_data_reader function create a for loop that counts the number of rows in 'csv_data/noise_data_1.csv'\n",
    "csv_filename = \"csv_data/noise_data_1.csv\"\n",
    "\n",
    "def csv_data_reader(csv_filename, skip_header_row=False):\n",
    "    count = 0\n",
    "\n",
    "    \"\"\" Generator for CSV data so we don't have to store it all in memory \"\"\"\n",
    "    with open(csv_filename, 'r') as csv_file:\n",
    "        for row in csv.reader(csv_file):\n",
    "            count += 1\n",
    "\n",
    "            if skip_header_row and count <= 1:\n",
    "                    continue\n",
    "\n",
    "            yield row\n",
    "\n",
    "# with list comprehension\n",
    "print(len([x for x in csv_data_reader(csv_filename, skip_header_row=True)]))\n",
    "\n",
    "# with for loop\n",
    "row_count = 0\n",
    "\n",
    "for row in csv_data_reader(csv_filename, skip_header_row=True):\n",
    "    row_count += 1\n",
    "\n",
    "print(row_count)"
   ]
  },
  {
   "cell_type": "markdown",
   "metadata": {},
   "source": [
    "#### Working with datetime\n",
    "\n",
    "Now we're able to count the total number of rows we can use the inbuilt `datetime` library to parse the sample timestamp. The function we'll use is `strptime` which takes a datetime string and format and returns a datetime object.\n",
    "\n",
    "The sample timestamp in the CSV file is in the format: `'%Y-%m-%d %H:%M:%S'` (YEAR-MONTH-DAY HOUR:MINUTE:SECOND)\n",
    "\n",
    "Further information about the `datetime` library can be found in the worksheet."
   ]
  },
  {
   "cell_type": "code",
   "execution_count": null,
   "metadata": {},
   "outputs": [],
   "source": [
    "import datetime\n",
    "\n",
    "# parsing a string as a datetime object\n",
    "datetime_string_fmt = '%Y-%m-%d %H:%M:%S'\n",
    "datetime_string = \"2021-03-01 11:12:00\"\n",
    "\n",
    "datetime_obj = datetime.datetime.strptime(datetime_string, datetime_string_fmt)\n",
    "\n",
    "print(datetime_obj)"
   ]
  },
  {
   "cell_type": "markdown",
   "metadata": {},
   "source": [
    "Now we have a datetime object we can use it to find the time difference between two datetimes. To do this we can subtract one from the other to find the `timedelta`."
   ]
  },
  {
   "cell_type": "code",
   "execution_count": null,
   "metadata": {},
   "outputs": [],
   "source": [
    "import datetime\n",
    "\n",
    "# parsing two datetime strings and getting the timedelta\n",
    "\n",
    "datetime_string_fmt = '%Y-%m-%d %H:%M:%S'\n",
    "sample_1_timestamp = \"2021-03-01 11:11:00\"\n",
    "sample_2_timestamp = \"2021-03-01 11:12:00\"\n",
    "\n",
    "# parse the timestamps\n",
    "sample_1_datetime_obj = datetime.datetime.strptime(sample_1_timestamp, datetime_string_fmt)\n",
    "sample_2_datetime_obj = datetime.datetime.strptime(sample_2_timestamp, datetime_string_fmt)\n",
    "\n",
    "# calculate the delta\n",
    "delta_time = sample_2_datetime_obj - sample_1_datetime_obj\n",
    "\n",
    "# print the delta\n",
    "print(delta_time)"
   ]
  },
  {
   "cell_type": "markdown",
   "metadata": {},
   "source": [
    "We can then use this time delta to compare it against other `timedelta`."
   ]
  },
  {
   "cell_type": "code",
   "execution_count": null,
   "metadata": {},
   "outputs": [],
   "source": [
    "import datetime\n",
    "\n",
    "# set up a timedelta of 1 minute\n",
    "max_time_delta = datetime.timedelta(minutes=1)\n",
    "\n",
    "datetime_string_fmt = '%Y-%m-%d %H:%M:%S'\n",
    "sample_1_timestamp = \"2021-03-01 11:11:00\"\n",
    "sample_2_timestamp = \"2021-03-01 11:12:00\"\n",
    "\n",
    "# parse the timestamps\n",
    "sample_1_datetime_obj = datetime.datetime.strptime(sample_1_timestamp, datetime_string_fmt)\n",
    "sample_2_datetime_obj = datetime.datetime.strptime(sample_2_timestamp, datetime_string_fmt)\n",
    "\n",
    "# calculate the delta\n",
    "sample_delta_time = sample_2_datetime_obj - sample_1_datetime_obj\n",
    "\n",
    "# check whether the delta is bigger than the max acceptable delta\n",
    "if(sample_delta_time > max_time_delta):\n",
    "    print(\"Time between samples is bigger than 1 minute!\")\n",
    "else:\n",
    "    print(\"Time between samples is equal to or less than a minute\")"
   ]
  },
  {
   "cell_type": "markdown",
   "metadata": {},
   "source": [
    "Now we know how to calculate the difference between two timestamps all that remains is calculating the average and printing the result."
   ]
  },
  {
   "cell_type": "code",
   "execution_count": null,
   "metadata": {},
   "outputs": [],
   "source": [
    "expected_samples = 900 # 15 hours in minutes\n",
    "total_samples = 897\n",
    "\n",
    "sla_percentage = 99.50\n",
    "sample_upload_percentage = round((total_samples / expected_samples) * 100, 2)\n",
    "\n",
    "if(sample_upload_percentage < sla_percentage):\n",
    "    print(f\"Total samples uploaded ({sample_upload_percentage}%) is less than the SLA {sla_percentage}\")\n",
    "else:\n",
    "    print(f\"Total samples uploaded ({sample_upload_percentage}%) within SLA\")\n"
   ]
  },
  {
   "cell_type": "markdown",
   "metadata": {},
   "source": [
    "### <font color=\"red\"><b>Workbook Exercise</b></font>"
   ]
  },
  {
   "cell_type": "markdown",
   "metadata": {},
   "source": [
    "1. Now we have an understanding of the background Python needed to implement the solution we can work through and design our program using pseudocode. \n",
    "\n",
    "**Note**: You do not have to write pseudocode for the `csv_data_reader` function."
   ]
  },
  {
   "cell_type": "markdown",
   "metadata": {},
   "source": [
    "***write your pseudocode solution below between the backticks (double click this text):***\n",
    "\n",
    "```\n",
    "SET csv filename to \"noise_data_2.csv\"\n",
    "SET date time format to \"%Y-%m-%d %H:%M:%S\"\n",
    "SET SLA percentage to 99.5\n",
    "SET expected samples to 900\n",
    "SET maximum gap to a 1 minute time delta\n",
    "\n",
    "SET total samples to 0\n",
    "SET previous sample date time to None\n",
    "\n",
    "FOR row in call csv data reader WITH csv filename and skip csv header TRUE\n",
    "    PARSE row index 0 as datetime and SET sample date time to result\n",
    "\n",
    "    IF previous sample date time is None\n",
    "        SET difference between samples to sample date time minus previous sample date time\n",
    "\n",
    "        IF difference between samples is greater than maximum gap\n",
    "            OUTPUT \"Missing samples between\" previous sample date time \"and\" sample date time\n",
    "        ENDIF\n",
    "    ENDIF\n",
    "\n",
    "    INC total samples\n",
    "    SET previous sample date time to sample date time\n",
    "ENDFOR\n",
    "\n",
    "SET sample upload percentage to ((total samples / expected samples) * 100) rounded to 2 d.p.\n",
    "\n",
    "IF sample upload percentage is less than SLA percentage\n",
    "    OUTPUT sample upload percentage \"% below SLA of \" SLA percentage \"%\"\n",
    "ELSE\n",
    "    OUTPUT sample upload percentage \"passes SLA\"\n",
    "ENDIF\n",
    "```"
   ]
  },
  {
   "cell_type": "markdown",
   "metadata": {},
   "source": [
    "2. Now you should combine all of the parts we've discussed to implement your pseudocode, solve the client's problem and meet the functional requirements you have listed.\n",
    "\n",
    "#### Expected output from `csv_data/noise_data_1.csv`:\n",
    "\n",
    "```\n",
    "Missing samples between 2021-02-28 07:01:00 and 2021-02-28 07:03:00\n",
    "99.89% passes SLA\n",
    "```\n",
    "\n",
    "#### Expected output from `csv_data/noise_data_2.csv`:\n",
    "\n",
    "```\n",
    "Missing samples between 2021-02-28 07:01:00 and 2021-02-28 07:03:00\n",
    "Missing samples between 2021-02-28 09:23:00 and 2021-02-28 09:25:00\n",
    "Missing samples between 2021-02-28 11:15:00 and 2021-02-28 11:17:00\n",
    "99.67% passes SLA\n",
    "```\n"
   ]
  },
  {
   "cell_type": "code",
   "execution_count": null,
   "metadata": {
    "tags": []
   },
   "outputs": [],
   "source": [
    "# write your solution here\n",
    "\n",
    "import csv\n",
    "import datetime\n",
    "\n",
    "csv_filename = \"csv_data/noise_data_1.csv\"\n",
    "datetime_fmt = \"%Y-%m-%d %H:%M:%S\"\n",
    "sla_percentage = 99.5\n",
    "expected_samples = 900 # 15 hours\n",
    "max_gap = datetime.timedelta(minutes=1)\n",
    "\n",
    "def csv_data_reader(csv_filename, skip_header_row=False):\n",
    "    count = 0\n",
    "\n",
    "    \"\"\" Generator for CSV data so we don't have to store it all in memory \"\"\"\n",
    "    with open(csv_filename, 'r') as csv_file:\n",
    "        for row in csv.reader(csv_file):\n",
    "            count += 1\n",
    "\n",
    "            if skip_header_row and count <= 1:\n",
    "                    continue\n",
    "\n",
    "            yield row\n",
    "\n",
    "\n",
    "total_samples = 0\n",
    "previous_sample_datetime = None\n",
    "\n",
    "for row in csv_data_reader(csv_filename, skip_header_row=True):\n",
    "    sample_datetime = datetime.datetime.strptime(row[0], datetime_fmt)\n",
    "\n",
    "    # on the first iteration this won't be set so don't process\n",
    "    if previous_sample_datetime is not None:\n",
    "        difference_between_samples = sample_datetime - previous_sample_datetime\n",
    "\n",
    "        if(difference_between_samples > max_gap):\n",
    "            print(\"Missing samples between\", previous_sample_datetime, \"and\", sample_datetime)  \n",
    "    \n",
    "    total_samples += 1\n",
    "    previous_sample_datetime = sample_datetime\n",
    "\n",
    "sample_upload_percentage = round((total_samples/expected_samples)*100, 2)\n",
    "\n",
    "if(sample_upload_percentage < sla_percentage):\n",
    "    print(f\"{sample_upload_percentage}% below SLA of {sla_percentage}%\")\n",
    "else:\n",
    "    print(f\"{sample_upload_percentage}% passes SLA\")"
   ]
  },
  {
   "cell_type": "markdown",
   "metadata": {},
   "source": [
    "## Determining Noise Limit Exceedances\n"
   ]
  },
  {
   "cell_type": "markdown",
   "metadata": {},
   "source": [
    "The same client has come back to us and asked us to improve their software. Currently acoustic engineers download data from their servers and run it through an Excel spreadsheet which calculates whether a noise limit has been broken within a given time period. They want to automate this process.\n",
    "\n",
    "The script should read in a timebase (e.g. `5` for 5 minutes), and a limit (e.g. `70.5`), and run through each timebase in the dataset creating an average of that set of `LAeq` values and determine whether that average value is above the limit.\n",
    "\n",
    "For example, given the following dataset and a limit of `12`:\n",
    "\n",
    "```\n",
    "sample timestamp, laeq\n",
    "09:01:00, 10\n",
    "09:02:00, 15\n",
    "09:03:00, 10\n",
    "09:04:00, 13\n",
    "09:05:00, 14\n",
    "09:06:00, 12\n",
    "```\n",
    "\n",
    "With a timebase of `2` the data samples to be averaged for each timebase would be:\n",
    "\n",
    "```\n",
    "(09:01:00, 09:02:00)\n",
    "(09:03:00, 09:04:00)\n",
    "(09:05:00, 09:06:00)\n",
    "```\n",
    "\n",
    "Which is the following LEQ values from the above dataset:\n",
    "\n",
    "```\n",
    "(10, 15)\n",
    "(10, 13)\n",
    "(14, 12)\n",
    "```\n",
    "\n",
    "That when run through the limit calculation of averaging the timebase would result in:\n",
    "\n",
    "```\n",
    "(10 + 15) / 2 = 12.5\n",
    "(10 + 13) / 2 = 11.5\n",
    "(14 + 12) / 2 = 13.0\n",
    "```\n",
    "\n",
    "Resulting in 2 limit exceedances in that dataset.\n",
    "\n",
    "**Notes:** \n",
    "- `csv_data/noise_data_3.csv` should be used for this exercise.\n",
    "- All parts needed to solve this problem have been covered in previous sections of this worksheet.\n",
    "- Assume there are *no* gaps in the dataset."
   ]
  },
  {
   "cell_type": "markdown",
   "metadata": {},
   "source": [
    "### <font color=\"red\"><b>Workbook Exercise</b></font>\n",
    "\n",
    "1. From the specification produce a list of functional requirements using the MoSCoW method.\n"
   ]
  },
  {
   "cell_type": "markdown",
   "metadata": {},
   "source": [
    "***write the requirements below (double click this text)***\n",
    "\n",
    "**Must:**\n",
    "- Take a timebase\n",
    "- Take a limit\n",
    "- Calculate the average LAeq over the entered timebase\n",
    "- Print the number of exceedances in the dataset\n",
    "\n",
    "**Won't:**\n",
    "- Handle missing timestamps, dataset must be continuous \n"
   ]
  },
  {
   "cell_type": "markdown",
   "metadata": {},
   "source": [
    "2. Produce a pseudocode solution."
   ]
  },
  {
   "cell_type": "markdown",
   "metadata": {},
   "source": [
    "\n",
    "***write your pseudocode solution below between the backticks (double click this text):***\n",
    "\n",
    "```\n",
    "SET csv filename to \"noise_data_3.csv\"\n",
    "SET leq column index to 3\n",
    "\n",
    "INPUT limit\n",
    "INPUT timebase\n",
    "\n",
    "SET total limit exceedances to 0\n",
    "SET row count to 0\n",
    "SET timebase samples to empty list\n",
    "\n",
    "FOR row in CALL csv data reader WITH csv filename and skip header row is True\n",
    "    IF row count MOD timebase is 0 and row count is greater than 0\n",
    "        IF the sum of timebase samples DIV length of timebase samples is greater than limit\n",
    "            INC total limit exceedances\n",
    "        ENDIF\n",
    "    \n",
    "        SET timebase samples to empty list\n",
    "    \n",
    "    APPEND row index leq column index to timebase samples\n",
    "    INC row count\n",
    "ENDFOR\n",
    "\n",
    "IF length of timebase samples is greater than 0\n",
    "    IF the sum of timebase samples DIV length of timebase samples is greater than limit\n",
    "        INC total limit exceedances\n",
    "    ENDIF\n",
    "ENDIF\n",
    "\n",
    "OUTPUT \"Limit exceeded\" total limit exceedances \"times\"\n",
    "```"
   ]
  },
  {
   "cell_type": "markdown",
   "metadata": {},
   "source": [
    "3. Write a Python script that solves the problem from your pseudocode.\n",
    "\n",
    "**Expected Output** for `csv_data/noise_csv_data_3.csv`:\n",
    "\n",
    "```\n",
    "Limit exceeded 2 times\n",
    "```\n",
    "\n",
    "*Assuming an input limit of 70 and a timebase value of 5*"
   ]
  },
  {
   "cell_type": "code",
   "execution_count": null,
   "metadata": {},
   "outputs": [],
   "source": [
    "# implement your solution here\n",
    "import csv\n",
    "import datetime\n",
    "\n",
    "csv_filename = \"csv_data/noise_data_3.csv\"\n",
    "leq_column_index = 3\n",
    "\n",
    "limit = float(input(\"Enter a limit: \"))\n",
    "timebase = int(input(\"Enter a timebase: \"))\n",
    "\n",
    "def csv_data_reader(csv_filename, skip_header_row=False):\n",
    "    count = 0\n",
    "\n",
    "    \"\"\" Generator for CSV data so we don't have to store it all in memory \"\"\"\n",
    "    with open(csv_filename, 'r') as csv_file:\n",
    "        for row in csv.reader(csv_file):\n",
    "            count += 1\n",
    "\n",
    "            if skip_header_row and count <= 1:\n",
    "                    continue\n",
    "\n",
    "            yield row\n",
    "\n",
    "total_limit_exceedances = 0\n",
    "row_count = 0\n",
    "timebase_samples = []\n",
    "\n",
    "for row in csv_data_reader(csv_filename, skip_header_row=True):\n",
    "    # 0 % 5 will trigger this incorrectly so check we've actually got data\n",
    "    if (row_count % timebase == 0) and (row_count > 0):\n",
    "        if (sum(timebase_samples) / int(len(timebase_samples))) > limit:\n",
    "            total_limit_exceedances += 1\n",
    "\n",
    "        timebase_samples = []\n",
    "\n",
    "    timebase_samples.append(float(row[leq_column_index]))\n",
    "    row_count += 1\n",
    "    \n",
    "# check the last timebase\n",
    "if len(timebase_samples) > 0:\n",
    "    if (sum(timebase_samples) / int(len(timebase_samples))) > limit:\n",
    "            total_limit_exceedances += 1\n",
    "\n",
    "print(f\"Limit exceeded {total_limit_exceedances} times\")"
   ]
  },
  {
   "cell_type": "markdown",
   "metadata": {},
   "source": [
    "**Advanced Exercise:**\n",
    "\n",
    "1. If you have completed all exercises, and the worksheet, and want a challenge, using `csv_data/noise_data_2.csv` as the dataset improve this program so that it can handle missing data points.\n",
    "\n",
    "Samples should be grouped by timebase only, e.g:\n",
    "\n",
    "```\n",
    "['2021-02-28 07:01:00', '2021-02-28 07:03:00', '2021-02-28 07:04:00', '2021-02-28 07:05:00']\n",
    "['2021-02-28 07:06:00', '2021-02-28 07:07:00', '2021-02-28 07:08:00', '2021-02-28 07:09:00', '2021-02-28 07:10:00']\n",
    "['2021-02-28 07:11:00', '2021-02-28 07:12:00', '2021-02-28 07:13:00', '2021-02-28 07:14:00', '2021-02-28 07:15:00']\n",
    "```\n",
    "\n",
    "Rather than\n",
    "\n",
    "```\n",
    "['2021-02-28 07:01:00', '2021-02-28 07:03:00', '2021-02-28 07:04:00', '2021-02-28 07:05:00', '2021-02-28 07:06:00']\n",
    "[ '2021-02-28 07:07:00', '2021-02-28 07:08:00', '2021-02-28 07:09:00', '2021-02-28 07:10:00', '2021-02-28 07:11:00']\n",
    "[ '2021-02-28 07:12:00', '2021-02-28 07:13:00', '2021-02-28 07:14:00', '2021-02-28 07:15:00', '2021-02-28 07:15:00']\n",
    "```"
   ]
  },
  {
   "cell_type": "code",
   "execution_count": null,
   "metadata": {
    "tags": []
   },
   "outputs": [],
   "source": [
    "# implement your solution here\n",
    "import csv\n",
    "import datetime\n",
    "\n",
    "csv_filename = \"csv_data/noise_data_3.csv\"\n",
    "datetime_fmt = '%Y-%m-%d %H:%M:%S'\n",
    "\n",
    "sample_timestamp_index = 0\n",
    "leq_column_index = 3\n",
    "\n",
    "limit = float(input(\"Enter a limit: \"))\n",
    "timebase = int(input(\"Enter a timebase: \"))\n",
    "\n",
    "def csv_data_reader(csv_filename, skip_header_row=False):\n",
    "    count = 0\n",
    "\n",
    "    \"\"\" Generator for CSV data so we don't have to store it all in memory \"\"\"\n",
    "    with open(csv_filename, 'r') as csv_file:\n",
    "        for row in csv.reader(csv_file):\n",
    "            count += 1\n",
    "\n",
    "            if skip_header_row and count <= 1:\n",
    "                    continue\n",
    "\n",
    "            yield row\n",
    "\n",
    "total_limit_exceedances = 0\n",
    "\n",
    "timebase_samples = []\n",
    "timestamp_groups = []\n",
    "\n",
    "timebase_start = None\n",
    "timebase_end = None\n",
    "\n",
    "for row in csv_data_reader(csv_filename, skip_header_row=True):\n",
    "    sample_datetime = datetime.datetime.strptime(row[sample_timestamp_index], datetime_fmt)\n",
    "\n",
    "    if timebase_start == None:\n",
    "        timebase_start = sample_datetime\n",
    "        timebase_end = sample_datetime + datetime.timedelta(minutes=timebase-1)\n",
    "\n",
    "    if sample_datetime > timebase_end:\n",
    "        timebase_start = timebase_end + datetime.timedelta(minutes=1)\n",
    "        timebase_end = timebase_start + datetime.timedelta(minutes=timebase-1)\n",
    "        \n",
    "        # uncomment below to see grouped samples\n",
    "        # print(timestamp_groups)\n",
    "\n",
    "        total_limit_exceedances += int((sum(timebase_samples) / int(len(timebase_samples))) > limit)\n",
    "        timebase_samples = []\n",
    "        timestamp_groups = []\n",
    "\n",
    "    timestamp_groups.append(row[sample_timestamp_index])\n",
    "    timebase_samples.append(float(row[leq_column_index]))\n",
    "\n",
    "# handle any remaining in last timebase\n",
    "if len(timebase_samples) > 0:\n",
    "    # uncomment below to see grouped samples\n",
    "    # print(timestamp_groups)\n",
    "    total_limit_exceedances += int((sum(timebase_samples) / int(len(timebase_samples))) > limit)\n",
    "    \n",
    "print(f\"Limit exceeded {total_limit_exceedances} times\")"
   ]
  },
  {
   "cell_type": "code",
   "execution_count": null,
   "metadata": {},
   "outputs": [],
   "source": []
  }
 ],
 "metadata": {
  "kernelspec": {
   "display_name": "Python 3 (ipykernel)",
   "language": "python",
   "name": "python3"
  },
  "language_info": {
   "codemirror_mode": {
    "name": "ipython",
    "version": 3
   },
   "file_extension": ".py",
   "mimetype": "text/x-python",
   "name": "python",
   "nbconvert_exporter": "python",
   "pygments_lexer": "ipython3",
   "version": "3.11.4"
  }
 },
 "nbformat": 4,
 "nbformat_minor": 4
}
